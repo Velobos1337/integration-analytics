{
 "cells": [
  {
   "cell_type": "markdown",
   "metadata": {},
   "source": [
    "### Сгрузим данные из таблицы info"
   ]
  },
  {
   "cell_type": "code",
   "execution_count": 54,
   "metadata": {},
   "outputs": [],
   "source": [
    "import os.path\n",
    "\n",
    "from google.auth.transport.requests import Request\n",
    "from google.oauth2.credentials import Credentials\n",
    "from google_auth_oauthlib.flow import InstalledAppFlow\n",
    "from googleapiclient.discovery import build\n",
    "from googleapiclient.errors import HttpError\n",
    "\n",
    "import numpy as np\n",
    "import pandas as pd"
   ]
  },
  {
   "cell_type": "code",
   "execution_count": 55,
   "metadata": {},
   "outputs": [],
   "source": [
    "# If modifying these scopes, delete the file token.json.\n",
    "SCOPES = [\"https://www.googleapis.com/auth/spreadsheets\"] #права на работу с данной таблицей (readonly)\n",
    "\n",
    "# The ID and range of a sample spreadsheet.\n",
    "#Напишем функцию для выделения из ссылки на таблицу ее ID\n",
    "def link_id(link):\n",
    "    # Поиск подстроки \"/d/\", которая следует за \"spreadsheets.google.com\"\n",
    "    start_idx = link.find(\"/d/\")\n",
    "    # Находим индекс конца идентификатора таблицы\n",
    "    end_idx = link.find(\"/\", start_idx + 3)\n",
    "    # Извлекаем идентификатор таблицы\n",
    "    sheet_id = link[start_idx + 3:end_idx]\n",
    "    return sheet_id\n",
    "\n",
    "\n",
    "def info(SAMPLE_SPREADSHEET_ID, SAMPLE_RANGE_NAME):\n",
    "    \"\"\"Shows basic usage of the Sheets API.\n",
    "    Prints values from a sample spreadsheet.\n",
    "    \"\"\"\n",
    "    creds = None\n",
    "    if os.path.exists(\"token.json\"):\n",
    "        creds = Credentials.from_authorized_user_file(\"token.json\", SCOPES)\n",
    "    if not creds or not creds.valid:\n",
    "        if creds and creds.expired and creds.refresh_token: \n",
    "            creds.refresh(Request())\n",
    "        else:\n",
    "            flow = InstalledAppFlow.from_client_secrets_file(\n",
    "                \"credentials.json\", SCOPES \n",
    "            )\n",
    "            creds = flow.run_local_server(port=0)\n",
    "        with open(\"token.json\", \"w\") as token:\n",
    "            token.write(creds.to_json())\n",
    "\n",
    "    try:\n",
    "        service = build(\"sheets\", \"v4\", credentials=creds)\n",
    "        sheet = service.spreadsheets()\n",
    "        result = sheet.values().get(spreadsheetId=SAMPLE_SPREADSHEET_ID, range=SAMPLE_RANGE_NAME).execute()\n",
    "        values = result.get(\"values\", [])\n",
    "\n",
    "        if not values:\n",
    "            print(\"No data found.\")\n",
    "            return\n",
    "\n",
    "        # Извлечение заголовков столбцов\n",
    "        headers = values[0]\n",
    "\n",
    "        # Создание словаря для хранения данных по столбцам\n",
    "        data_dict = {header: [] for header in headers}\n",
    "\n",
    "        # Заполнение словаря данными из столбцов\n",
    "        for row in values[1:]:\n",
    "            for idx, value in enumerate(row):\n",
    "                data_dict[headers[idx]].append(value)\n",
    "\n",
    "        # заменим номер у каждой ссылки листа в конце на 0\n",
    "        def replace_gid(link):\n",
    "            # Разделение ссылки на две части по параметру gid\n",
    "            parts = link.split(\"gid=\")\n",
    "            # Обновление значения параметра gid на 0\n",
    "            new_link = parts[0] + \"gid=0\"\n",
    "            return new_link\n",
    "        \n",
    "                # заменим номер у каждой ссылки листа в конце на 0\n",
    "        for idx, link in enumerate(data_dict['Ссылка на общую таблицу контракта']):\n",
    "            data_dict['Ссылка на общую таблицу контракта'][idx] = replace_gid(link)\n",
    "        \n",
    "        \n",
    "        print(data_dict)\n",
    "\n",
    "    except HttpError as err:\n",
    "        print(err)\n",
    "    return(data_dict)\n",
    "\n",
    "\n",
    "\n"
   ]
  },
  {
   "cell_type": "code",
   "execution_count": 56,
   "metadata": {},
   "outputs": [
    {
     "name": "stderr",
     "output_type": "stream",
     "text": [
      "INFO:googleapiclient.discovery_cache:file_cache is only supported with oauth2client<4.0.0\n"
     ]
    },
    {
     "name": "stdout",
     "output_type": "stream",
     "text": [
      "{'Название контракта': ['Контракт №1', 'Контракт №1', 'Контракт №1', 'Контракт №1', 'Контракт №2', 'Контракт №2'], 'Ссылка на общую таблицу контракта': ['https://docs.google.com/spreadsheets/d/1Lvxu_Hkcvy2ihnvvQosxoZ6tymAO8EqiYJq66AydEDg/edit#gid=0', 'https://docs.google.com/spreadsheets/d/1Lvxu_Hkcvy2ihnvvQosxoZ6tymAO8EqiYJq66AydEDg/edit#gid=0', 'https://docs.google.com/spreadsheets/d/1Lvxu_Hkcvy2ihnvvQosxoZ6tymAO8EqiYJq66AydEDg/edit#gid=0', 'https://docs.google.com/spreadsheets/d/1Lvxu_Hkcvy2ihnvvQosxoZ6tymAO8EqiYJq66AydEDg/edit#gid=0', 'https://docs.google.com/spreadsheets/d/1IUpVTWvWELWM9nGRMyxPKQ8XNBK1YCo0d7mYRW3PFIo/edit#gid=0', 'https://docs.google.com/spreadsheets/d/1IUpVTWvWELWM9nGRMyxPKQ8XNBK1YCo0d7mYRW3PFIo/edit#gid=0'], 'Менеджер контракта': ['Блогеры ищеек', 'Nexus', 'Rahul', 'Крупные интеграции', 'Блогеры ищеек', 'Nexus'], 'Ссылка на лист контракта по типу менеджера исполнителя': ['https://docs.google.com/spreadsheets/d/1Lvxu_Hkcvy2ihnvvQosxoZ6tymAO8EqiYJq66AydEDg/edit#gid=1083647941', 'https://docs.google.com/spreadsheets/d/1Lvxu_Hkcvy2ihnvvQosxoZ6tymAO8EqiYJq66AydEDg/edit#gid=1447713346', 'https://docs.google.com/spreadsheets/d/1Lvxu_Hkcvy2ihnvvQosxoZ6tymAO8EqiYJq66AydEDg/edit#gid=430573892', 'https://docs.google.com/spreadsheets/d/1Lvxu_Hkcvy2ihnvvQosxoZ6tymAO8EqiYJq66AydEDg/edit#gid=1326398243', 'https://docs.google.com/spreadsheets/d/1IUpVTWvWELWM9nGRMyxPKQ8XNBK1YCo0d7mYRW3PFIo/edit#gid=1447713346', 'https://docs.google.com/spreadsheets/d/1IUpVTWvWELWM9nGRMyxPKQ8XNBK1YCo0d7mYRW3PFIo/edit#gid=1083647941'], 'Ссылка на таблицу модерации для контракта по типу менеджера исполнителя': ['ссылка на таблицу именно по контракту 1 и ищейкам', 'ссылка на таблицу именно по контракту 1 и Нексусу']}\n"
     ]
    }
   ],
   "source": [
    "if __name__ == \"__main__\":\n",
    "    SAMPLE_SPREADSHEET_ID_INFO = \"1MhYj1NjS3uv7gOC5JGp0wToC2YNH-6lg_inNSVo3K4o\" #ID таблицы info (часть ссылки)\n",
    "    SAMPLE_RANGE_NAME_INFO = \"Сontract info шаблон!A1:E\" #задаем лист и рассматриваемые ячейки\n",
    "    info_dict = info(SAMPLE_SPREADSHEET_ID_INFO, SAMPLE_RANGE_NAME_INFO)"
   ]
  },
  {
   "cell_type": "markdown",
   "metadata": {},
   "source": [
    "### сгрузим данные из таблиц всех из инфо"
   ]
  },
  {
   "cell_type": "code",
   "execution_count": 57,
   "metadata": {},
   "outputs": [],
   "source": [
    "#Создадим словарь, с которого будем подгружать данные в таблицу Total\n",
    "aggregate_tables = {'Ссылка на аккаунт исполнителя':[], 'Тип менеджера исполнителя':[], 'тг id менеджера исполнителя':[], 'Кол-во исполнителей':[], 'тип контракта':[], 'Дата выхода интеграции':[], 'Расходы в Rs':[], 'трек ссылка':[]}\n"
   ]
  },
  {
   "cell_type": "code",
   "execution_count": 58,
   "metadata": {},
   "outputs": [],
   "source": [
    "\n",
    "SCOPES = [\"https://www.googleapis.com/auth/spreadsheets\"] #права на работу с данной таблицей (readonly)\n",
    "\n",
    "#Напишем функцию для выделения из ссылки на таблицу ее ID\n",
    "def link_id(link):\n",
    "    # Поиск подстроки \"/d/\", которая следует за \"spreadsheets.google.com\"\n",
    "    start_idx = link.find(\"/d/\")\n",
    "    # Находим индекс конца идентификатора таблицы\n",
    "    end_idx = link.find(\"/\", start_idx + 3)\n",
    "    # Извлекаем идентификатор таблицы\n",
    "    sheet_id = link[start_idx + 3:end_idx]\n",
    "    return sheet_id\n",
    "\n",
    "\n",
    "def table_lists(SAMPLE_SPREADSHEET_ID, SAMPLE_RANGE_NAME):\n",
    "    \"\"\"Shows basic usage of the Sheets API.\n",
    "    Prints values from a sample spreadsheet.\n",
    "    \"\"\"\n",
    "    creds = None\n",
    "    if os.path.exists(\"token.json\"):\n",
    "        creds = Credentials.from_authorized_user_file(\"token.json\", SCOPES)\n",
    "    if not creds or not creds.valid:\n",
    "        if creds and creds.expired and creds.refresh_token: \n",
    "            creds.refresh(Request())\n",
    "        else:\n",
    "            flow = InstalledAppFlow.from_client_secrets_file(\n",
    "                \"credentials.json\", SCOPES \n",
    "            )\n",
    "            creds = flow.run_local_server(port=0)\n",
    "        with open(\"token.json\", \"w\") as token:\n",
    "            token.write(creds.to_json())\n",
    "\n",
    "    try:\n",
    "        service = build(\"sheets\", \"v4\", credentials=creds)\n",
    "        sheet = service.spreadsheets()\n",
    "        result = sheet.values().get(spreadsheetId=SAMPLE_SPREADSHEET_ID, range=SAMPLE_RANGE_NAME).execute()\n",
    "        values = result.get(\"values\", [])\n",
    "\n",
    "        if not values:\n",
    "            print(\"No data found.\")\n",
    "            return\n",
    "\n",
    "        # Извлечение заголовков столбцов\n",
    "        headers = values[0]\n",
    "\n",
    "        # Создание словаря для хранения данных по столбцам\n",
    "        data_dict = {header: [] for header in headers}\n",
    "\n",
    "        # Заполнение словаря данными из столбцов\n",
    "        for row in values[1:]:\n",
    "            for idx, value in enumerate(row):\n",
    "                data_dict[headers[idx]].append(value)\n",
    "        \n",
    "        \n",
    "        \n",
    "\n",
    "    except HttpError as err:\n",
    "        print(err)\n",
    "    return(data_dict)\n",
    "\n",
    "\n",
    "\n"
   ]
  },
  {
   "cell_type": "code",
   "execution_count": 59,
   "metadata": {},
   "outputs": [
    {
     "name": "stderr",
     "output_type": "stream",
     "text": [
      "INFO:googleapiclient.discovery_cache:file_cache is only supported with oauth2client<4.0.0\n"
     ]
    },
    {
     "data": {
      "text/plain": [
       "{'Ссылка на аккаунт исполнителя': ['https://www.instagram.com/pahadi_vlogger22?igsh=cGx2cjNreXVuZ3Vs'],\n",
       " 'тг id менеджера исполнителя': ['9888888888'],\n",
       " 'Дата выхода интеграции': ['3/25/2024 17:25:12'],\n",
       " 'Расходы в Rs': ['4287'],\n",
       " 'трек ссылка': ['https://click.tracktik24.com/DKyNxpZ4?landing=57&sub_id1=holi&sub_id2=sbr&sub_id3=h3']}"
      ]
     },
     "execution_count": 59,
     "metadata": {},
     "output_type": "execute_result"
    }
   ],
   "source": [
    "link = 'https://docs.google.com/spreadsheets/d/1IUpVTWvWELWM9nGRMyxPKQ8XNBK1YCo0d7mYRW3PFIo/edit#gid=1083647941'\n",
    "sheet_id = link_id(link)\n",
    "range_name = 'Блогеры ищеек' +'!A1:E'  # Указываем правильный диапазон данных\n",
    "table = table_lists(sheet_id, range_name)\n",
    "table"
   ]
  },
  {
   "cell_type": "code",
   "execution_count": 60,
   "metadata": {},
   "outputs": [
    {
     "name": "stderr",
     "output_type": "stream",
     "text": [
      "INFO:googleapiclient.discovery_cache:file_cache is only supported with oauth2client<4.0.0\n"
     ]
    },
    {
     "name": "stderr",
     "output_type": "stream",
     "text": [
      "INFO:googleapiclient.discovery_cache:file_cache is only supported with oauth2client<4.0.0\n"
     ]
    },
    {
     "name": "stdout",
     "output_type": "stream",
     "text": [
      "{'Ссылка на аккаунт исполнителя': ['https://www.instagram.com/zakhmi.writess_?igsh=dDlzdTY4aHgzMHU3'], 'тг id менеджера исполнителя': ['999999999999'], 'Дата выхода интеграции': ['3/25/2024 13:40:08'], 'Расходы в Rs': ['7864287'], 'трек ссылка': ['https://click.tracktik24.com/DKyNxpZ4?landing=57&sub_id1=holi&sub_id2=sbr&sub_id3=h257']}\n"
     ]
    },
    {
     "name": "stderr",
     "output_type": "stream",
     "text": [
      "INFO:googleapiclient.discovery_cache:file_cache is only supported with oauth2client<4.0.0\n"
     ]
    },
    {
     "name": "stdout",
     "output_type": "stream",
     "text": [
      "{'тг id менеджера исполнителя': ['77777777'], 'Кол-во исполнителей': ['1672'], 'Расходы в Rs': ['1800000'], 'трек ссылка': ['ссылка нексус 1']}\n"
     ]
    },
    {
     "name": "stderr",
     "output_type": "stream",
     "text": [
      "INFO:googleapiclient.discovery_cache:file_cache is only supported with oauth2client<4.0.0\n"
     ]
    },
    {
     "name": "stdout",
     "output_type": "stream",
     "text": [
      "{'тг id менеджера исполнителя': ['8888888888'], 'Кол-во исполнителей': ['1089'], 'Расходы в Rs': ['786890'], 'трек ссылка': ['ссылка рахул 1']}\n"
     ]
    },
    {
     "name": "stderr",
     "output_type": "stream",
     "text": [
      "INFO:googleapiclient.discovery_cache:file_cache is only supported with oauth2client<4.0.0\n"
     ]
    },
    {
     "name": "stdout",
     "output_type": "stream",
     "text": [
      "{'Ссылка на аккаунт исполнителя': ['https://www.instagram.com/the_challengers07?igsh=dWdsdmxndnZpcDVm'], 'тг id менеджера исполнителя': ['10000000'], 'Дата выхода интеграции': ['22.05.2024'], 'Расходы в Rs': ['9878759'], 'трек ссылка': ['https://click.tracktik24.com/DKyNxpZ4?landing=57&sub_id1=holi&sub_id2=sbr&sub_id3=h98']}\n"
     ]
    },
    {
     "name": "stderr",
     "output_type": "stream",
     "text": [
      "INFO:googleapiclient.discovery_cache:file_cache is only supported with oauth2client<4.0.0\n"
     ]
    },
    {
     "name": "stdout",
     "output_type": "stream",
     "text": [
      "{'Ссылка на аккаунт исполнителя': ['https://www.instagram.com/pahadi_vlogger22?igsh=cGx2cjNreXVuZ3Vs'], 'тг id менеджера исполнителя': ['9888888888'], 'Дата выхода интеграции': ['3/25/2024 17:25:12'], 'Расходы в Rs': ['4287'], 'трек ссылка': ['https://click.tracktik24.com/DKyNxpZ4?landing=57&sub_id1=holi&sub_id2=sbr&sub_id3=h3']}\n",
      "{'тг id менеджера исполнителя': ['77777777'], 'Кол-во исполнителей': ['2567'], 'Расходы в Rs': ['7000000'], 'трек ссылка': ['ссылка нексус 2']}\n"
     ]
    }
   ],
   "source": [
    "for elem in range(len(info_dict['Ссылка на общую таблицу контракта'])):\n",
    "\n",
    "    if info_dict['Менеджер контракта'][elem] == 'Блогеры ищеек':\n",
    "        #блогеры ищеек\n",
    "        link = info_dict['Ссылка на общую таблицу контракта'][elem]\n",
    "        sheet_id = link_id(link)\n",
    "        range_name = info_dict['Менеджер контракта'][0] +'!A1:E'  # Указываем правильный диапазон данных\n",
    "        table = table_lists(sheet_id, range_name)\n",
    "        print(table)    \n",
    "        aggregate_tables['Ссылка на аккаунт исполнителя'].append(table['Ссылка на аккаунт исполнителя'][0])\n",
    "        aggregate_tables['Тип менеджера исполнителя'].append('Блогеры ищеек')\n",
    "        aggregate_tables['тип контракта'].append(info_dict['Название контракта'][elem])\n",
    "        aggregate_tables['тг id менеджера исполнителя'].append(table['тг id менеджера исполнителя'][0])\n",
    "        aggregate_tables['Кол-во исполнителей'].append(1)\n",
    "        aggregate_tables['Дата выхода интеграции'].append(table['Дата выхода интеграции'][0])\n",
    "        aggregate_tables['Расходы в Rs'].append(table['Расходы в Rs'][0])\n",
    "        aggregate_tables['трек ссылка'].append(table['трек ссылка'][0])\n",
    "\n",
    "    elif info_dict['Менеджер контракта'][elem] == 'Крупные интеграции':\n",
    "        # крупные интеграции\n",
    "        link = info_dict['Ссылка на общую таблицу контракта'][elem]\n",
    "        sheet_id = link_id(link)\n",
    "        range_name = info_dict['Менеджер контракта'][elem] +'!A1:E'  # Указываем правильный диапазон данных\n",
    "        table = table_lists(sheet_id, range_name)\n",
    "        print(table)\n",
    "        aggregate_tables['Ссылка на аккаунт исполнителя'].append(table['Ссылка на аккаунт исполнителя'][0])\n",
    "        aggregate_tables['Тип менеджера исполнителя'].append('Крупные интеграции')\n",
    "        aggregate_tables['тип контракта'].append(info_dict['Название контракта'][elem])\n",
    "        aggregate_tables['тг id менеджера исполнителя'].append(table['тг id менеджера исполнителя'][0])\n",
    "        aggregate_tables['Кол-во исполнителей'].append(1)\n",
    "        aggregate_tables['Дата выхода интеграции'].append(table['Дата выхода интеграции'][0])\n",
    "        aggregate_tables['Расходы в Rs'].append(table['Расходы в Rs'][0])\n",
    "        aggregate_tables['трек ссылка'].append(table['трек ссылка'][0])\n",
    "\n",
    "    elif not info_dict['Менеджер контракта'][elem] == 'Крупные интеграции' and  not info_dict['Менеджер контракта'][elem] == 'Блогеры ищеек':\n",
    "        #агентства\n",
    "        link = info_dict['Ссылка на общую таблицу контракта'][elem]\n",
    "        sheet_id = link_id(link)\n",
    "        range_name = info_dict['Менеджер контракта'][elem] +'!A1:D'  # Указываем правильный диапазон данных\n",
    "        table = table_lists(sheet_id, range_name)\n",
    "        print(table)\n",
    "\n",
    "        aggregate_tables['Ссылка на аккаунт исполнителя'].append([''][0])\n",
    "        aggregate_tables['Тип менеджера исполнителя'].append('Агентства')\n",
    "        aggregate_tables['тип контракта'].append(info_dict['Название контракта'][elem])\n",
    "        aggregate_tables['тг id менеджера исполнителя'].append(table['тг id менеджера исполнителя'][0])\n",
    "        aggregate_tables['Кол-во исполнителей'].append(table['Кол-во исполнителей'][0])\n",
    "        aggregate_tables['Дата выхода интеграции'].append([''][0])\n",
    "        aggregate_tables['Расходы в Rs'].append(table['Расходы в Rs'][0])\n",
    "        aggregate_tables['трек ссылка'].append(table['трек ссылка'][0])"
   ]
  },
  {
   "cell_type": "code",
   "execution_count": 61,
   "metadata": {},
   "outputs": [
    {
     "data": {
      "text/html": [
       "<div>\n",
       "<style scoped>\n",
       "    .dataframe tbody tr th:only-of-type {\n",
       "        vertical-align: middle;\n",
       "    }\n",
       "\n",
       "    .dataframe tbody tr th {\n",
       "        vertical-align: top;\n",
       "    }\n",
       "\n",
       "    .dataframe thead th {\n",
       "        text-align: right;\n",
       "    }\n",
       "</style>\n",
       "<table border=\"1\" class=\"dataframe\">\n",
       "  <thead>\n",
       "    <tr style=\"text-align: right;\">\n",
       "      <th></th>\n",
       "      <th>Ссылка на аккаунт исполнителя</th>\n",
       "      <th>Тип менеджера исполнителя</th>\n",
       "      <th>тг id менеджера исполнителя</th>\n",
       "      <th>Кол-во исполнителей</th>\n",
       "      <th>тип контракта</th>\n",
       "      <th>Дата выхода интеграции</th>\n",
       "      <th>Расходы в Rs</th>\n",
       "      <th>трек ссылка</th>\n",
       "    </tr>\n",
       "  </thead>\n",
       "  <tbody>\n",
       "    <tr>\n",
       "      <th>0</th>\n",
       "      <td>https://www.instagram.com/zakhmi.writess_?igsh...</td>\n",
       "      <td>Блогеры ищеек</td>\n",
       "      <td>999999999999</td>\n",
       "      <td>1</td>\n",
       "      <td>Контракт №1</td>\n",
       "      <td>3/25/2024 13:40:08</td>\n",
       "      <td>7864287</td>\n",
       "      <td>https://click.tracktik24.com/DKyNxpZ4?landing=...</td>\n",
       "    </tr>\n",
       "    <tr>\n",
       "      <th>1</th>\n",
       "      <td></td>\n",
       "      <td>Агентства</td>\n",
       "      <td>77777777</td>\n",
       "      <td>1672</td>\n",
       "      <td>Контракт №1</td>\n",
       "      <td></td>\n",
       "      <td>1800000</td>\n",
       "      <td>ссылка нексус 1</td>\n",
       "    </tr>\n",
       "    <tr>\n",
       "      <th>2</th>\n",
       "      <td></td>\n",
       "      <td>Агентства</td>\n",
       "      <td>8888888888</td>\n",
       "      <td>1089</td>\n",
       "      <td>Контракт №1</td>\n",
       "      <td></td>\n",
       "      <td>786890</td>\n",
       "      <td>ссылка рахул 1</td>\n",
       "    </tr>\n",
       "    <tr>\n",
       "      <th>3</th>\n",
       "      <td>https://www.instagram.com/the_challengers07?ig...</td>\n",
       "      <td>Крупные интеграции</td>\n",
       "      <td>10000000</td>\n",
       "      <td>1</td>\n",
       "      <td>Контракт №1</td>\n",
       "      <td>22.05.2024</td>\n",
       "      <td>9878759</td>\n",
       "      <td>https://click.tracktik24.com/DKyNxpZ4?landing=...</td>\n",
       "    </tr>\n",
       "    <tr>\n",
       "      <th>4</th>\n",
       "      <td>https://www.instagram.com/pahadi_vlogger22?igs...</td>\n",
       "      <td>Блогеры ищеек</td>\n",
       "      <td>9888888888</td>\n",
       "      <td>1</td>\n",
       "      <td>Контракт №2</td>\n",
       "      <td>3/25/2024 17:25:12</td>\n",
       "      <td>4287</td>\n",
       "      <td>https://click.tracktik24.com/DKyNxpZ4?landing=...</td>\n",
       "    </tr>\n",
       "    <tr>\n",
       "      <th>5</th>\n",
       "      <td></td>\n",
       "      <td>Агентства</td>\n",
       "      <td>77777777</td>\n",
       "      <td>2567</td>\n",
       "      <td>Контракт №2</td>\n",
       "      <td></td>\n",
       "      <td>7000000</td>\n",
       "      <td>ссылка нексус 2</td>\n",
       "    </tr>\n",
       "  </tbody>\n",
       "</table>\n",
       "</div>"
      ],
      "text/plain": [
       "                       Ссылка на аккаунт исполнителя  \\\n",
       "0  https://www.instagram.com/zakhmi.writess_?igsh...   \n",
       "1                                                      \n",
       "2                                                      \n",
       "3  https://www.instagram.com/the_challengers07?ig...   \n",
       "4  https://www.instagram.com/pahadi_vlogger22?igs...   \n",
       "5                                                      \n",
       "\n",
       "  Тип менеджера исполнителя тг id менеджера исполнителя Кол-во исполнителей  \\\n",
       "0             Блогеры ищеек                999999999999                   1   \n",
       "1                 Агентства                    77777777                1672   \n",
       "2                 Агентства                  8888888888                1089   \n",
       "3        Крупные интеграции                    10000000                   1   \n",
       "4             Блогеры ищеек                  9888888888                   1   \n",
       "5                 Агентства                    77777777                2567   \n",
       "\n",
       "  тип контракта Дата выхода интеграции Расходы в Rs  \\\n",
       "0   Контракт №1     3/25/2024 13:40:08      7864287   \n",
       "1   Контракт №1                             1800000   \n",
       "2   Контракт №1                              786890   \n",
       "3   Контракт №1             22.05.2024      9878759   \n",
       "4   Контракт №2     3/25/2024 17:25:12         4287   \n",
       "5   Контракт №2                             7000000   \n",
       "\n",
       "                                         трек ссылка  \n",
       "0  https://click.tracktik24.com/DKyNxpZ4?landing=...  \n",
       "1                                    ссылка нексус 1  \n",
       "2                                     ссылка рахул 1  \n",
       "3  https://click.tracktik24.com/DKyNxpZ4?landing=...  \n",
       "4  https://click.tracktik24.com/DKyNxpZ4?landing=...  \n",
       "5                                    ссылка нексус 2  "
      ]
     },
     "execution_count": 61,
     "metadata": {},
     "output_type": "execute_result"
    }
   ],
   "source": [
    "\n",
    "\n",
    "\n",
    "df_manual = pd.DataFrame(aggregate_tables)\n",
    "df_manual.fillna(\"None\", inplace=True)\n",
    "df_manual"
   ]
  },
  {
   "cell_type": "code",
   "execution_count": 62,
   "metadata": {},
   "outputs": [
    {
     "data": {
      "text/plain": [
       "[['https://www.instagram.com/zakhmi.writess_?igsh=dDlzdTY4aHgzMHU3',\n",
       "  'Блогеры ищеек',\n",
       "  '999999999999',\n",
       "  1,\n",
       "  'Контракт №1',\n",
       "  '3/25/2024 13:40:08',\n",
       "  '7864287',\n",
       "  'https://click.tracktik24.com/DKyNxpZ4?landing=57&sub_id1=holi&sub_id2=sbr&sub_id3=h257'],\n",
       " ['',\n",
       "  'Агентства',\n",
       "  '77777777',\n",
       "  '1672',\n",
       "  'Контракт №1',\n",
       "  '',\n",
       "  '1800000',\n",
       "  'ссылка нексус 1'],\n",
       " ['',\n",
       "  'Агентства',\n",
       "  '8888888888',\n",
       "  '1089',\n",
       "  'Контракт №1',\n",
       "  '',\n",
       "  '786890',\n",
       "  'ссылка рахул 1'],\n",
       " ['https://www.instagram.com/the_challengers07?igsh=dWdsdmxndnZpcDVm',\n",
       "  'Крупные интеграции',\n",
       "  '10000000',\n",
       "  1,\n",
       "  'Контракт №1',\n",
       "  '22.05.2024',\n",
       "  '9878759',\n",
       "  'https://click.tracktik24.com/DKyNxpZ4?landing=57&sub_id1=holi&sub_id2=sbr&sub_id3=h98'],\n",
       " ['https://www.instagram.com/pahadi_vlogger22?igsh=cGx2cjNreXVuZ3Vs',\n",
       "  'Блогеры ищеек',\n",
       "  '9888888888',\n",
       "  1,\n",
       "  'Контракт №2',\n",
       "  '3/25/2024 17:25:12',\n",
       "  '4287',\n",
       "  'https://click.tracktik24.com/DKyNxpZ4?landing=57&sub_id1=holi&sub_id2=sbr&sub_id3=h3'],\n",
       " ['',\n",
       "  'Агентства',\n",
       "  '77777777',\n",
       "  '2567',\n",
       "  'Контракт №2',\n",
       "  '',\n",
       "  '7000000',\n",
       "  'ссылка нексус 2']]"
      ]
     },
     "execution_count": 62,
     "metadata": {},
     "output_type": "execute_result"
    }
   ],
   "source": [
    "    # Транспонирование DataFrame и преобразование в словарь\n",
    "    df_manual_transposed = df_manual.transpose()\n",
    "    aggregate_tables = df_manual_transposed.to_dict()\n",
    "\n",
    "    # Преобразование словаря в список списков\n",
    "    aggregate_tables_result = []\n",
    "    for key in aggregate_tables.keys():\n",
    "        aggregate_row = []\n",
    "        for sub_key in aggregate_tables[key]:\n",
    "            aggregate_row.append(aggregate_tables[key][sub_key])\n",
    "        aggregate_tables_result.append(aggregate_row)\n",
    "    aggregate_tables_result\n",
    "\n"
   ]
  },
  {
   "cell_type": "markdown",
   "metadata": {},
   "source": [
    "### Загрузка данные в таблицу Total"
   ]
  },
  {
   "cell_type": "code",
   "execution_count": 63,
   "metadata": {},
   "outputs": [
    {
     "name": "stderr",
     "output_type": "stream",
     "text": [
      "INFO:googleapiclient.discovery_cache:file_cache is only supported with oauth2client<4.0.0\n",
      "INFO:__main__:Отправка запроса обновления данных: {'valueInputOption': 'USER_ENTERED', 'data': [{'range': 'Общая выгрузка!A2:H', 'values': [['https://www.instagram.com/zakhmi.writess_?igsh=dDlzdTY4aHgzMHU3', 'Блогеры ищеек', '999999999999', 1, 'Контракт №1', '3/25/2024 13:40:08', '7864287', 'https://click.tracktik24.com/DKyNxpZ4?landing=57&sub_id1=holi&sub_id2=sbr&sub_id3=h257'], ['', 'Агентства', '77777777', '1672', 'Контракт №1', '', '1800000', 'ссылка нексус 1'], ['', 'Агентства', '8888888888', '1089', 'Контракт №1', '', '786890', 'ссылка рахул 1'], ['https://www.instagram.com/the_challengers07?igsh=dWdsdmxndnZpcDVm', 'Крупные интеграции', '10000000', 1, 'Контракт №1', '22.05.2024', '9878759', 'https://click.tracktik24.com/DKyNxpZ4?landing=57&sub_id1=holi&sub_id2=sbr&sub_id3=h98'], ['https://www.instagram.com/pahadi_vlogger22?igsh=cGx2cjNreXVuZ3Vs', 'Блогеры ищеек', '9888888888', 1, 'Контракт №2', '3/25/2024 17:25:12', '4287', 'https://click.tracktik24.com/DKyNxpZ4?landing=57&sub_id1=holi&sub_id2=sbr&sub_id3=h3'], ['', 'Агентства', '77777777', '2567', 'Контракт №2', '', '7000000', 'ссылка нексус 2']]}]}\n",
      "INFO:__main__:Получен результат: {'spreadsheetId': '1X-THzy2TpMsBAxpR6WlIH1V9TrKgr5kH6ajLJ6fELYM', 'totalUpdatedRows': 6, 'totalUpdatedColumns': 8, 'totalUpdatedCells': 48, 'totalUpdatedSheets': 1, 'responses': [{'spreadsheetId': '1X-THzy2TpMsBAxpR6WlIH1V9TrKgr5kH6ajLJ6fELYM', 'updatedRange': \"'Общая выгрузка'!A2:H7\", 'updatedRows': 6, 'updatedColumns': 8, 'updatedCells': 48}]}\n"
     ]
    },
    {
     "name": "stdout",
     "output_type": "stream",
     "text": [
      "48 cells updated.\n"
     ]
    }
   ],
   "source": [
    "from googleapiclient.discovery import build\n",
    "from google_auth_oauthlib.flow import InstalledAppFlow\n",
    "from google.auth.transport.requests import Request\n",
    "from google.oauth2.credentials import Credentials\n",
    "import os.path\n",
    "import logging\n",
    "\n",
    "# Настройка логгера\n",
    "logging.basicConfig(level=logging.INFO)\n",
    "logger = logging.getLogger(__name__)\n",
    "\n",
    "SCOPES = [\"https://www.googleapis.com/auth/spreadsheets\"] #права на работу с данной таблицей (readonly)\n",
    "\n",
    "def update_table(SAMPLE_SPREADSHEET_ID, SAMPLE_RANGE_NAME, values):\n",
    "    \"\"\"Update values in a sample spreadsheet.\"\"\"\n",
    "    creds = None\n",
    "    if os.path.exists(\"token.json\"):\n",
    "        creds = Credentials.from_authorized_user_file(\"token.json\", SCOPES)\n",
    "    if not creds or not creds.valid:\n",
    "        if creds and creds.expired and creds.refresh_token:\n",
    "            creds.refresh(Request())\n",
    "        else:\n",
    "            flow = InstalledAppFlow.from_client_secrets_file(\n",
    "                \"credentials.json\", SCOPES \n",
    "            )\n",
    "            creds = flow.run_local_server(port=0)\n",
    "        with open(\"token.json\", \"w\") as token:\n",
    "            token.write(creds.to_json())\n",
    "\n",
    "    try:\n",
    "        service = build(\"sheets\", \"v4\", credentials=creds)\n",
    "        data = [{\n",
    "            'range': SAMPLE_RANGE_NAME,\n",
    "            'values': values\n",
    "        }]\n",
    "        body = {\n",
    "            'valueInputOption': 'USER_ENTERED',\n",
    "            'data': data\n",
    "        }\n",
    "        logger.info(f\"Отправка запроса обновления данных: {body}\")  # Логируем данные запроса\n",
    "        result = service.spreadsheets().values().batchUpdate(spreadsheetId=SAMPLE_SPREADSHEET_ID, body=body).execute()\n",
    "        logger.info(f\"Получен результат: {result}\")  # Логируем результат запроса\n",
    "        print('{0} cells updated.'.format(result.get('totalUpdatedCells')))\n",
    "        \n",
    "    except Exception as err:\n",
    "        logger.error(f\"Произошла ошибка: {err}\")  # Логируем ошибку\n",
    "\n",
    "def main():\n",
    "    SAMPLE_SPREADSHEET_ID = '1X-THzy2TpMsBAxpR6WlIH1V9TrKgr5kH6ajLJ6fELYM' # Замените на ID вашей таблицы\n",
    "    SAMPLE_RANGE_NAME = 'Общая выгрузка!A2:H' # Замените на нужный вам диапазон\n",
    "    values = aggregate_tables_result # Замените на свои данные\n",
    "    update_table(SAMPLE_SPREADSHEET_ID, SAMPLE_RANGE_NAME, values)\n",
    "\n",
    "if __name__ == '__main__':\n",
    "    main()\n"
   ]
  },
  {
   "cell_type": "markdown",
   "metadata": {},
   "source": []
  }
 ],
 "metadata": {
  "kernelspec": {
   "display_name": "Python 3",
   "language": "python",
   "name": "python3"
  },
  "language_info": {
   "codemirror_mode": {
    "name": "ipython",
    "version": 3
   },
   "file_extension": ".py",
   "mimetype": "text/x-python",
   "name": "python",
   "nbconvert_exporter": "python",
   "pygments_lexer": "ipython3",
   "version": "3.11.2"
  }
 },
 "nbformat": 4,
 "nbformat_minor": 2
}
