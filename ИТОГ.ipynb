{
 "cells": [
  {
   "cell_type": "markdown",
   "metadata": {},
   "source": [
    "### Сгрузим данные из таблицы info"
   ]
  },
  {
   "cell_type": "code",
   "execution_count": 209,
   "metadata": {},
   "outputs": [],
   "source": [
    "import os.path\n",
    "\n",
    "from google.auth.transport.requests import Request\n",
    "from google.oauth2.credentials import Credentials\n",
    "from google_auth_oauthlib.flow import InstalledAppFlow\n",
    "from googleapiclient.discovery import build\n",
    "from googleapiclient.errors import HttpError\n",
    "\n",
    "import numpy as np\n",
    "import pandas as pd"
   ]
  },
  {
   "cell_type": "code",
   "execution_count": 210,
   "metadata": {},
   "outputs": [],
   "source": [
    "# If modifying these scopes, delete the file token.json.\n",
    "SCOPES = [\"https://www.googleapis.com/auth/spreadsheets\"] #права на работу с данной таблицей (readonly)\n",
    "\n",
    "# The ID and range of a sample spreadsheet.\n",
    "#Напишем функцию для выделения из ссылки на таблицу ее ID\n",
    "def link_id(link):\n",
    "    # Поиск подстроки \"/d/\", которая следует за \"spreadsheets.google.com\"\n",
    "    start_idx = link.find(\"/d/\")\n",
    "    # Находим индекс конца идентификатора таблицы\n",
    "    end_idx = link.find(\"/\", start_idx + 3)\n",
    "    # Извлекаем идентификатор таблицы\n",
    "    sheet_id = link[start_idx + 3:end_idx]\n",
    "    return sheet_id\n",
    "\n",
    "\n",
    "def info(SAMPLE_SPREADSHEET_ID, SAMPLE_RANGE_NAME):\n",
    "    \"\"\"Shows basic usage of the Sheets API.\n",
    "    Prints values from a sample spreadsheet.\n",
    "    \"\"\"\n",
    "    creds = None\n",
    "    if os.path.exists(\"token.json\"):\n",
    "        creds = Credentials.from_authorized_user_file(\"token.json\", SCOPES)\n",
    "    if not creds or not creds.valid:\n",
    "        if creds and creds.expired and creds.refresh_token: \n",
    "            creds.refresh(Request())\n",
    "        else:\n",
    "            flow = InstalledAppFlow.from_client_secrets_file(\n",
    "                \"credentials.json\", SCOPES \n",
    "            )\n",
    "            creds = flow.run_local_server(port=0)\n",
    "        with open(\"token.json\", \"w\") as token:\n",
    "            token.write(creds.to_json())\n",
    "\n",
    "    try:\n",
    "        service = build(\"sheets\", \"v4\", credentials=creds)\n",
    "        sheet = service.spreadsheets()\n",
    "        result = sheet.values().get(spreadsheetId=SAMPLE_SPREADSHEET_ID, range=SAMPLE_RANGE_NAME).execute()\n",
    "        values = result.get(\"values\", [])\n",
    "\n",
    "        if not values:\n",
    "            print(\"No data found.\")\n",
    "            return\n",
    "\n",
    "        # Извлечение заголовков столбцов\n",
    "        headers = values[0]\n",
    "\n",
    "        # Создание словаря для хранения данных по столбцам\n",
    "        data_dict = {header: [] for header in headers}\n",
    "\n",
    "        # Заполнение словаря данными из столбцов\n",
    "        for row in values[1:]:\n",
    "            for idx, value in enumerate(row):\n",
    "                data_dict[headers[idx]].append(value)\n",
    "\n",
    "        # заменим номер у каждой ссылки листа в конце на 0\n",
    "        def replace_gid(link):\n",
    "            # Разделение ссылки на две части по параметру gid\n",
    "            parts = link.split(\"gid=\")\n",
    "            # Обновление значения параметра gid на 0\n",
    "            new_link = parts[0] + \"gid=0\"\n",
    "            return new_link\n",
    "        \n",
    "                # заменим номер у каждой ссылки листа в конце на 0\n",
    "        for idx, link in enumerate(data_dict['Ссылка на общую таблицу контракта']):\n",
    "            data_dict['Ссылка на общую таблицу контракта'][idx] = replace_gid(link)\n",
    "        \n",
    "        \n",
    "        print(data_dict)\n",
    "\n",
    "    except HttpError as err:\n",
    "        print(err)\n",
    "    return(data_dict)\n",
    "\n",
    "\n",
    "\n"
   ]
  },
  {
   "cell_type": "code",
   "execution_count": 211,
   "metadata": {},
   "outputs": [
    {
     "name": "stderr",
     "output_type": "stream",
     "text": [
      "INFO:googleapiclient.discovery_cache:file_cache is only supported with oauth2client<4.0.0\n"
     ]
    },
    {
     "name": "stdout",
     "output_type": "stream",
     "text": [
      "{'Название контракта': ['Контракт №1', 'Контракт №1', 'Контракт №1', 'Контракт №1', 'Контракт №2', 'Контракт №2'], 'Ссылка на общую таблицу контракта': ['https://docs.google.com/spreadsheets/d/1Lvxu_Hkcvy2ihnvvQosxoZ6tymAO8EqiYJq66AydEDg/edit#gid=0', 'https://docs.google.com/spreadsheets/d/1Lvxu_Hkcvy2ihnvvQosxoZ6tymAO8EqiYJq66AydEDg/edit#gid=0', 'https://docs.google.com/spreadsheets/d/1Lvxu_Hkcvy2ihnvvQosxoZ6tymAO8EqiYJq66AydEDg/edit#gid=0', 'https://docs.google.com/spreadsheets/d/1Lvxu_Hkcvy2ihnvvQosxoZ6tymAO8EqiYJq66AydEDg/edit#gid=0', 'https://docs.google.com/spreadsheets/d/1IUpVTWvWELWM9nGRMyxPKQ8XNBK1YCo0d7mYRW3PFIo/edit#gid=0', 'https://docs.google.com/spreadsheets/d/1IUpVTWvWELWM9nGRMyxPKQ8XNBK1YCo0d7mYRW3PFIo/edit#gid=0'], 'Менеджер контракта': ['Блогеры ищеек', 'Nexus', 'Rahul', 'Крупные интеграции', 'Блогеры ищеек', 'Nexus'], 'Ссылка на лист контракта по типу менеджера исполнителя': ['https://docs.google.com/spreadsheets/d/1Lvxu_Hkcvy2ihnvvQosxoZ6tymAO8EqiYJq66AydEDg/edit#gid=1083647941', 'https://docs.google.com/spreadsheets/d/1Lvxu_Hkcvy2ihnvvQosxoZ6tymAO8EqiYJq66AydEDg/edit#gid=1447713346', 'https://docs.google.com/spreadsheets/d/1Lvxu_Hkcvy2ihnvvQosxoZ6tymAO8EqiYJq66AydEDg/edit#gid=430573892', 'https://docs.google.com/spreadsheets/d/1Lvxu_Hkcvy2ihnvvQosxoZ6tymAO8EqiYJq66AydEDg/edit#gid=1326398243', 'https://docs.google.com/spreadsheets/d/1IUpVTWvWELWM9nGRMyxPKQ8XNBK1YCo0d7mYRW3PFIo/edit#gid=1447713346', 'https://docs.google.com/spreadsheets/d/1IUpVTWvWELWM9nGRMyxPKQ8XNBK1YCo0d7mYRW3PFIo/edit#gid=1083647941'], 'Ссылка на таблицу модерации для контракта по типу менеджера исполнителя': ['ссылка на таблицу именно по контракту 1 и ищейкам', 'ссылка на таблицу именно по контракту 1 и Нексусу']}\n"
     ]
    }
   ],
   "source": [
    "if __name__ == \"__main__\":\n",
    "    SAMPLE_SPREADSHEET_ID_INFO = \"1MhYj1NjS3uv7gOC5JGp0wToC2YNH-6lg_inNSVo3K4o\" #ID таблицы info (часть ссылки)\n",
    "    SAMPLE_RANGE_NAME_INFO = \"Сontract info шаблон!A1:E\" #задаем лист и рассматриваемые ячейки\n",
    "    info_dict = info(SAMPLE_SPREADSHEET_ID_INFO, SAMPLE_RANGE_NAME_INFO)"
   ]
  },
  {
   "cell_type": "markdown",
   "metadata": {},
   "source": [
    "### сгрузим данные из таблиц всех из инфо"
   ]
  },
  {
   "cell_type": "code",
   "execution_count": 212,
   "metadata": {},
   "outputs": [],
   "source": [
    "#Создадим словарь, с которого будем подгружать данные в таблицу Total\n",
    "aggregate_tables = {'Ссылка на аккаунт исполнителя':[], 'Тип менеджера исполнителя':[], 'тг id менеджера исполнителя':[], 'Кол-во исполнителей':[], 'тип контракта':[],'Sub ID 2':[], 'Дата выхода интеграции':[], 'Расходы в Rs':[], 'трек ссылка':[]}\n"
   ]
  },
  {
   "cell_type": "code",
   "execution_count": 213,
   "metadata": {},
   "outputs": [],
   "source": [
    "\n",
    "SCOPES = [\"https://www.googleapis.com/auth/spreadsheets\"] #права на работу с данной таблицей (readonly)\n",
    "\n",
    "#Напишем функцию для выделения из ссылки на таблицу ее ID\n",
    "def link_id(link):\n",
    "    # Поиск подстроки \"/d/\", которая следует за \"spreadsheets.google.com\"\n",
    "    start_idx = link.find(\"/d/\")\n",
    "    # Находим индекс конца идентификатора таблицы\n",
    "    end_idx = link.find(\"/\", start_idx + 3)\n",
    "    # Извлекаем идентификатор таблицы\n",
    "    sheet_id = link[start_idx + 3:end_idx]\n",
    "    return sheet_id\n",
    "\n",
    "\n",
    "def table_lists(SAMPLE_SPREADSHEET_ID, SAMPLE_RANGE_NAME):\n",
    "    \"\"\"Shows basic usage of the Sheets API.\n",
    "    Prints values from a sample spreadsheet.\n",
    "    \"\"\"\n",
    "    creds = None\n",
    "    if os.path.exists(\"token.json\"):\n",
    "        creds = Credentials.from_authorized_user_file(\"token.json\", SCOPES)\n",
    "    if not creds or not creds.valid:\n",
    "        if creds and creds.expired and creds.refresh_token: \n",
    "            creds.refresh(Request())\n",
    "        else:\n",
    "            flow = InstalledAppFlow.from_client_secrets_file(\n",
    "                \"credentials.json\", SCOPES \n",
    "            )\n",
    "            creds = flow.run_local_server(port=0)\n",
    "        with open(\"token.json\", \"w\") as token:\n",
    "            token.write(creds.to_json())\n",
    "\n",
    "    try:\n",
    "        service = build(\"sheets\", \"v4\", credentials=creds)\n",
    "        sheet = service.spreadsheets()\n",
    "        result = sheet.values().get(spreadsheetId=SAMPLE_SPREADSHEET_ID, range=SAMPLE_RANGE_NAME).execute()\n",
    "        values = result.get(\"values\", [])\n",
    "\n",
    "        if not values:\n",
    "            print(\"No data found.\")\n",
    "            return\n",
    "\n",
    "        # Извлечение заголовков столбцов\n",
    "        headers = values[0]\n",
    "\n",
    "        # Создание словаря для хранения данных по столбцам\n",
    "        data_dict = {header: [] for header in headers}\n",
    "\n",
    "        # Заполнение словаря данными из столбцов\n",
    "        for row in values[1:]:\n",
    "            for idx, value in enumerate(row):\n",
    "                data_dict[headers[idx]].append(value)\n",
    "        \n",
    "        \n",
    "        \n",
    "\n",
    "    except HttpError as err:\n",
    "        print(err)\n",
    "    return(data_dict)\n",
    "\n",
    "\n",
    "\n"
   ]
  },
  {
   "cell_type": "code",
   "execution_count": 214,
   "metadata": {},
   "outputs": [
    {
     "name": "stderr",
     "output_type": "stream",
     "text": [
      "INFO:googleapiclient.discovery_cache:file_cache is only supported with oauth2client<4.0.0\n"
     ]
    },
    {
     "data": {
      "text/plain": [
       "{'Ссылка на аккаунт исполнителя': ['https://www.instagram.com/pahadi_vlogger22?igsh=cGx2cjNreXVuZ3Vs',\n",
       "  'https://www.instagram.com/pahadi_vlogger22?igsh=cGx2cjNreXVuZ3Vs'],\n",
       " 'тг id менеджера исполнителя': ['9888888888', '11111111111111'],\n",
       " 'Дата выхода интеграции': ['3/25/2024 17:25:12', '3/25/2024 17:25:12'],\n",
       " 'Расходы в Rs': ['4287', '4287'],\n",
       " 'трек ссылка': ['https://click.tracktik24.com/DKyNxpZ4?landing=57&sub_id1=holi&sub_id2=sbr21&sub_id3=h3',\n",
       "  'https://click.tracktik24.com/DKyNxpZ4?landing=57&sub_id1=holi&sub_id2=sbr22&sub_id3=h3']}"
      ]
     },
     "execution_count": 214,
     "metadata": {},
     "output_type": "execute_result"
    }
   ],
   "source": [
    "link = 'https://docs.google.com/spreadsheets/d/1IUpVTWvWELWM9nGRMyxPKQ8XNBK1YCo0d7mYRW3PFIo/edit#gid=1083647941'\n",
    "sheet_id = link_id(link)\n",
    "range_name = 'Блогеры ищеек' +'!A1:E'  # Указываем правильный диапазон данных\n",
    "table = table_lists(sheet_id, range_name)\n",
    "table"
   ]
  },
  {
   "cell_type": "markdown",
   "metadata": {},
   "source": [
    "Напишем функцию, которая достает sub_id2 из ссылки"
   ]
  },
  {
   "cell_type": "code",
   "execution_count": 215,
   "metadata": {},
   "outputs": [],
   "source": [
    "import re\n",
    "\n",
    "def extract_sub_id2(url):\n",
    "    # Используем регулярное выражение для поиска подстроки после \"sub_id2=\" и до символа \"&\"\n",
    "    match = re.search(r'sub_id2=([^&]+)', url)\n",
    "    \n",
    "    if match:\n",
    "        # Если подстрока найдена, возвращаем значение после \"sub_id2=\"\n",
    "        return match.group(1)\n",
    "    else:\n",
    "        # Если подстрока не найдена, возвращаем None или пустую строку\n",
    "        return \"\""
   ]
  },
  {
   "cell_type": "code",
   "execution_count": 216,
   "metadata": {},
   "outputs": [
    {
     "name": "stderr",
     "output_type": "stream",
     "text": [
      "INFO:googleapiclient.discovery_cache:file_cache is only supported with oauth2client<4.0.0\n"
     ]
    },
    {
     "name": "stderr",
     "output_type": "stream",
     "text": [
      "INFO:googleapiclient.discovery_cache:file_cache is only supported with oauth2client<4.0.0\n"
     ]
    },
    {
     "name": "stdout",
     "output_type": "stream",
     "text": [
      "{'Ссылка на аккаунт исполнителя': ['https://www.instagram.com/zakhmi.writess_?igsh=dDlzdTY4aHgzMHU3'], 'тг id менеджера исполнителя': ['999999999999'], 'Дата выхода интеграции': ['3/25/2024 13:40:08'], 'Расходы в Rs': ['7864287'], 'трек ссылка': ['https://click.tracktik24.com/DKyNxpZ4?landing=57&sub_id1=holi&sub_id2=sbr11&sub_id3=h257']}\n"
     ]
    },
    {
     "name": "stderr",
     "output_type": "stream",
     "text": [
      "INFO:googleapiclient.discovery_cache:file_cache is only supported with oauth2client<4.0.0\n"
     ]
    },
    {
     "name": "stdout",
     "output_type": "stream",
     "text": [
      "{'тг id менеджера исполнителя': ['77777777'], 'Кол-во исполнителей': ['1672'], 'Расходы в Rs': ['1800000'], 'трек ссылка': ['https://click.tracktik24.com/DKyNxpZ4?landing=57&sub_id1=holi&sub_id2=nex1&sub_id3=h3']}\n"
     ]
    },
    {
     "name": "stderr",
     "output_type": "stream",
     "text": [
      "INFO:googleapiclient.discovery_cache:file_cache is only supported with oauth2client<4.0.0\n"
     ]
    },
    {
     "name": "stdout",
     "output_type": "stream",
     "text": [
      "{'тг id менеджера исполнителя': ['8888888888'], 'Кол-во исполнителей': ['1089'], 'Расходы в Rs': ['786890'], 'трек ссылка': ['https://click.tracktik24.com/DKyNxpZ4?landing=57&sub_id1=holi&sub_id2=rah1&sub_id3=h3']}\n"
     ]
    },
    {
     "name": "stderr",
     "output_type": "stream",
     "text": [
      "INFO:googleapiclient.discovery_cache:file_cache is only supported with oauth2client<4.0.0\n"
     ]
    },
    {
     "name": "stdout",
     "output_type": "stream",
     "text": [
      "{'Ссылка на аккаунт исполнителя': ['https://www.instagram.com/the_challengers07?igsh=dWdsdmxndnZpcDVm'], 'тг id менеджера исполнителя': ['10000000'], 'Дата выхода интеграции': ['22.05.2024'], 'Расходы в Rs': ['9878759'], 'трек ссылка': ['https://click.tracktik24.com/DKyNxpZ4?landing=57&sub_id1=holi&sub_id2=sbr&sub_id3=h98']}\n"
     ]
    },
    {
     "name": "stderr",
     "output_type": "stream",
     "text": [
      "INFO:googleapiclient.discovery_cache:file_cache is only supported with oauth2client<4.0.0\n"
     ]
    },
    {
     "name": "stdout",
     "output_type": "stream",
     "text": [
      "{'Ссылка на аккаунт исполнителя': ['https://www.instagram.com/pahadi_vlogger22?igsh=cGx2cjNreXVuZ3Vs', 'https://www.instagram.com/pahadi_vlogger22?igsh=cGx2cjNreXVuZ3Vs'], 'тг id менеджера исполнителя': ['9888888888', '11111111111111'], 'Дата выхода интеграции': ['3/25/2024 17:25:12', '3/25/2024 17:25:12'], 'Расходы в Rs': ['4287', '4287'], 'трек ссылка': ['https://click.tracktik24.com/DKyNxpZ4?landing=57&sub_id1=holi&sub_id2=sbr21&sub_id3=h3', 'https://click.tracktik24.com/DKyNxpZ4?landing=57&sub_id1=holi&sub_id2=sbr22&sub_id3=h3']}\n",
      "{'тг id менеджера исполнителя': ['77777777'], 'Кол-во исполнителей': ['2567'], 'Расходы в Rs': ['7000000'], 'трек ссылка': ['https://click.tracktik24.com/DKyNxpZ4?landing=57&sub_id1=holi&sub_id2=nex2&sub_id3=h3']}\n"
     ]
    }
   ],
   "source": [
    "for elem in range(len(info_dict['Ссылка на общую таблицу контракта'])):\n",
    "\n",
    "    if info_dict['Менеджер контракта'][elem] == 'Блогеры ищеек':\n",
    "        #блогеры ищеек\n",
    "        link = info_dict['Ссылка на общую таблицу контракта'][elem]\n",
    "        sheet_id = link_id(link)\n",
    "        range_name = info_dict['Менеджер контракта'][0] +'!A1:E'  # Указываем правильный диапазон данных\n",
    "        table = table_lists(sheet_id, range_name)\n",
    "        print(table)  \n",
    "        for number_link in range(len(table['Ссылка на аккаунт исполнителя'])):\n",
    "            aggregate_tables['Ссылка на аккаунт исполнителя'].append(table['Ссылка на аккаунт исполнителя'][number_link])\n",
    "            aggregate_tables['Тип менеджера исполнителя'].append('Блогеры ищеек')\n",
    "            aggregate_tables['тип контракта'].append(info_dict['Название контракта'][elem])\n",
    "            aggregate_tables['тг id менеджера исполнителя'].append(table['тг id менеджера исполнителя'][number_link])\n",
    "            aggregate_tables['Кол-во исполнителей'].append(1)\n",
    "            aggregate_tables['Дата выхода интеграции'].append(table['Дата выхода интеграции'][number_link])\n",
    "            aggregate_tables['Расходы в Rs'].append(table['Расходы в Rs'][number_link])\n",
    "            aggregate_tables['трек ссылка'].append(table['трек ссылка'][number_link])\n",
    "            aggregate_tables['Sub ID 2'].append(extract_sub_id2(table['трек ссылка'][number_link]))\n",
    "\n",
    "    elif info_dict['Менеджер контракта'][elem] == 'Крупные интеграции':\n",
    "        # крупные интеграции\n",
    "        link = info_dict['Ссылка на общую таблицу контракта'][elem]\n",
    "        sheet_id = link_id(link)\n",
    "        range_name = info_dict['Менеджер контракта'][elem] +'!A1:E'  # Указываем правильный диапазон данных\n",
    "        table = table_lists(sheet_id, range_name)\n",
    "        print(table)\n",
    "        aggregate_tables['Ссылка на аккаунт исполнителя'].append(table['Ссылка на аккаунт исполнителя'][0])\n",
    "        aggregate_tables['Тип менеджера исполнителя'].append('Крупные интеграции')\n",
    "        aggregate_tables['тип контракта'].append(info_dict['Название контракта'][elem])\n",
    "        aggregate_tables['тг id менеджера исполнителя'].append(table['тг id менеджера исполнителя'][0])\n",
    "        aggregate_tables['Кол-во исполнителей'].append(1)\n",
    "        aggregate_tables['Дата выхода интеграции'].append(table['Дата выхода интеграции'][0])\n",
    "        aggregate_tables['Расходы в Rs'].append(table['Расходы в Rs'][0])\n",
    "        aggregate_tables['трек ссылка'].append(table['трек ссылка'][0])\n",
    "        aggregate_tables['Sub ID 2'].append(extract_sub_id2(table['трек ссылка'][0]))\n",
    "\n",
    "    elif not info_dict['Менеджер контракта'][elem] == 'Крупные интеграции' and  not info_dict['Менеджер контракта'][elem] == 'Блогеры ищеек':\n",
    "        #агентства\n",
    "        link = info_dict['Ссылка на общую таблицу контракта'][elem]\n",
    "        sheet_id = link_id(link)\n",
    "        range_name = info_dict['Менеджер контракта'][elem] +'!A1:D'  # Указываем правильный диапазон данных\n",
    "        table = table_lists(sheet_id, range_name)\n",
    "        print(table)\n",
    "\n",
    "        aggregate_tables['Ссылка на аккаунт исполнителя'].append([''][0])\n",
    "        aggregate_tables['Тип менеджера исполнителя'].append('Агентства')\n",
    "        aggregate_tables['тип контракта'].append(info_dict['Название контракта'][elem])\n",
    "        aggregate_tables['тг id менеджера исполнителя'].append(table['тг id менеджера исполнителя'][0])\n",
    "        aggregate_tables['Кол-во исполнителей'].append(table['Кол-во исполнителей'][0])\n",
    "        aggregate_tables['Дата выхода интеграции'].append([''][0])\n",
    "        aggregate_tables['Расходы в Rs'].append(table['Расходы в Rs'][0])\n",
    "        aggregate_tables['трек ссылка'].append(table['трек ссылка'][0])\n",
    "        aggregate_tables['Sub ID 2'].append(extract_sub_id2(table['трек ссылка'][0]))"
   ]
  },
  {
   "cell_type": "code",
   "execution_count": 217,
   "metadata": {},
   "outputs": [
    {
     "name": "stdout",
     "output_type": "stream",
     "text": [
      "{'Ссылка на аккаунт исполнителя': ['https://www.instagram.com/zakhmi.writess_?igsh=dDlzdTY4aHgzMHU3', '', '', 'https://www.instagram.com/the_challengers07?igsh=dWdsdmxndnZpcDVm', 'https://www.instagram.com/pahadi_vlogger22?igsh=cGx2cjNreXVuZ3Vs', 'https://www.instagram.com/pahadi_vlogger22?igsh=cGx2cjNreXVuZ3Vs', ''], 'Тип менеджера исполнителя': ['Блогеры ищеек', 'Агентства', 'Агентства', 'Крупные интеграции', 'Блогеры ищеек', 'Блогеры ищеек', 'Агентства'], 'тг id менеджера исполнителя': ['999999999999', '77777777', '8888888888', '10000000', '9888888888', '11111111111111', '77777777'], 'Кол-во исполнителей': [1, '1672', '1089', 1, 1, 1, '2567'], 'тип контракта': ['Контракт №1', 'Контракт №1', 'Контракт №1', 'Контракт №1', 'Контракт №2', 'Контракт №2', 'Контракт №2'], 'Sub ID 2': ['sbr11', 'nex1', 'rah1', 'sbr', 'sbr21', 'sbr22', 'nex2'], 'Дата выхода интеграции': ['3/25/2024 13:40:08', '', '', '22.05.2024', '3/25/2024 17:25:12', '3/25/2024 17:25:12', ''], 'Расходы в Rs': ['7864287', '1800000', '786890', '9878759', '4287', '4287', '7000000'], 'трек ссылка': ['https://click.tracktik24.com/DKyNxpZ4?landing=57&sub_id1=holi&sub_id2=sbr11&sub_id3=h257', 'https://click.tracktik24.com/DKyNxpZ4?landing=57&sub_id1=holi&sub_id2=nex1&sub_id3=h3', 'https://click.tracktik24.com/DKyNxpZ4?landing=57&sub_id1=holi&sub_id2=rah1&sub_id3=h3', 'https://click.tracktik24.com/DKyNxpZ4?landing=57&sub_id1=holi&sub_id2=sbr&sub_id3=h98', 'https://click.tracktik24.com/DKyNxpZ4?landing=57&sub_id1=holi&sub_id2=sbr21&sub_id3=h3', 'https://click.tracktik24.com/DKyNxpZ4?landing=57&sub_id1=holi&sub_id2=sbr22&sub_id3=h3', 'https://click.tracktik24.com/DKyNxpZ4?landing=57&sub_id1=holi&sub_id2=nex2&sub_id3=h3']}\n"
     ]
    }
   ],
   "source": [
    "print(aggregate_tables)"
   ]
  },
  {
   "cell_type": "markdown",
   "metadata": {},
   "source": [
    "__Подгрузим еще аналитику по Аланбес__"
   ]
  },
  {
   "cell_type": "markdown",
   "metadata": {},
   "source": [
    "Немного преобразуем функцию выгрузки таблицы "
   ]
  },
  {
   "cell_type": "code",
   "execution_count": 218,
   "metadata": {},
   "outputs": [],
   "source": [
    "# If modifying these scopes, delete the file token.json.\n",
    "SCOPES = [\"https://www.googleapis.com/auth/spreadsheets\"] #права на работу с данной таблицей (readonly)\n",
    "\n",
    "def info_alan(SAMPLE_SPREADSHEET_ID, SAMPLE_RANGE_NAME):\n",
    "    \"\"\"Shows basic usage of the Sheets API.\n",
    "    Prints values from a sample spreadsheet.\n",
    "    \"\"\"\n",
    "    creds = None\n",
    "    if os.path.exists(\"token.json\"):\n",
    "        creds = Credentials.from_authorized_user_file(\"token.json\", SCOPES)\n",
    "    if not creds or not creds.valid:\n",
    "        if creds and creds.expired and creds.refresh_token: \n",
    "            creds.refresh(Request())\n",
    "        else:\n",
    "            flow = InstalledAppFlow.from_client_secrets_file(\n",
    "                \"credentials.json\", SCOPES \n",
    "            )\n",
    "            creds = flow.run_local_server(port=0)\n",
    "        with open(\"token.json\", \"w\") as token:\n",
    "            token.write(creds.to_json())\n",
    "\n",
    "    try:\n",
    "        service = build(\"sheets\", \"v4\", credentials=creds)\n",
    "        sheet = service.spreadsheets()\n",
    "        result = sheet.values().get(spreadsheetId=SAMPLE_SPREADSHEET_ID, range=SAMPLE_RANGE_NAME).execute()\n",
    "        values = result.get(\"values\", [])\n",
    "\n",
    "        if not values:\n",
    "            print(\"No data found.\")\n",
    "            return\n",
    "\n",
    "        # Извлечение заголовков столбцов\n",
    "        headers = values[0]\n",
    "\n",
    "        # Создание словаря для хранения данных по столбцам\n",
    "        data_dict = {header: [] for header in headers}\n",
    "\n",
    "        # Заполнение словаря данными из столбцов\n",
    "        for row in values[1:]:\n",
    "            for idx, value in enumerate(row):\n",
    "                data_dict[headers[idx]].append(value)\n",
    "\n",
    "        # заменим номер у каждой ссылки листа в конце на 0\n",
    "        def replace_gid(link):\n",
    "            # Разделение ссылки на две части по параметру gid\n",
    "            parts = link.split(\"gid=\")\n",
    "            # Обновление значения параметра gid на 0\n",
    "            new_link = parts[0] + \"gid=0\"\n",
    "            return new_link\n",
    "        \n",
    "        \n",
    "        print(data_dict)\n",
    "\n",
    "    except HttpError as err:\n",
    "        print(err)\n",
    "    return(data_dict)\n",
    "\n",
    "\n",
    "\n"
   ]
  },
  {
   "cell_type": "code",
   "execution_count": 219,
   "metadata": {},
   "outputs": [
    {
     "name": "stderr",
     "output_type": "stream",
     "text": [
      "INFO:googleapiclient.discovery_cache:file_cache is only supported with oauth2client<4.0.0\n"
     ]
    },
    {
     "name": "stdout",
     "output_type": "stream",
     "text": [
      "{'Sub ID 2': ['nex2', 'sbr21', 'nex1', 'rah1', 'sbr11', 'sbr', 'sbr22'], 'Total number of clicks': ['1', '2', '3', '4', '5', '6', '7'], 'Unique clicks count': ['1', '2', '3', '4', '5', '6', '7'], 'Registrations': ['1', '2', '3', '4', '5', '6', '7'], 'FTD': ['1', '2', '3', '4', '5', '6', '7'], 'RD': ['1', '2', '3', '4', '5', '6', '7'], 'DEPOSITS AMOUNT': ['1', '2', '3', '4', '5', '6', '7'], 'Payout': ['1', '2', '3', '4', '5', '6', '7'], 'GGR': ['1', '2', '3', '4', '5', '6', '7']}\n"
     ]
    }
   ],
   "source": [
    "if __name__ == \"__main__\":\n",
    "    SAMPLE_SPREADSHEET_ID_INFO = \"1cmXOesuicSG_1BU7Dzzz4q7UEXpYLCPj81OMNCOnr7w\" #ID таблицы info (часть ссылки)\n",
    "    SAMPLE_RANGE_NAME_INFO = \"Выгрузка за неделю!A1:I\" #задаем лист и рассматриваемые ячейки\n",
    "    Alan = info_alan(SAMPLE_SPREADSHEET_ID_INFO, SAMPLE_RANGE_NAME_INFO)"
   ]
  },
  {
   "cell_type": "markdown",
   "metadata": {},
   "source": [
    "КОРОЧЕ НАДО ДОРАБОТАТЬ ВОТ ЭТОТ КОД НИЖЕ, ЧТОБЫ СОПОСТАВЛЯЛИСЬ ДАННЫЕ ДВУХ СЛОВАРЕЙ ПО САБАМ"
   ]
  },
  {
   "cell_type": "code",
   "execution_count": 220,
   "metadata": {},
   "outputs": [],
   "source": [
    "aggregate_tables_pd = pd.DataFrame(aggregate_tables)\n",
    "Alan_pd = pd.DataFrame(Alan)\n",
    "df_manual = pd.merge(aggregate_tables_pd, Alan_pd, on='Sub ID 2')"
   ]
  },
  {
   "cell_type": "code",
   "execution_count": 221,
   "metadata": {},
   "outputs": [
    {
     "data": {
      "text/html": [
       "<div>\n",
       "<style scoped>\n",
       "    .dataframe tbody tr th:only-of-type {\n",
       "        vertical-align: middle;\n",
       "    }\n",
       "\n",
       "    .dataframe tbody tr th {\n",
       "        vertical-align: top;\n",
       "    }\n",
       "\n",
       "    .dataframe thead th {\n",
       "        text-align: right;\n",
       "    }\n",
       "</style>\n",
       "<table border=\"1\" class=\"dataframe\">\n",
       "  <thead>\n",
       "    <tr style=\"text-align: right;\">\n",
       "      <th></th>\n",
       "      <th>Sub ID 2</th>\n",
       "      <th>Total number of clicks</th>\n",
       "      <th>Unique clicks count</th>\n",
       "      <th>Registrations</th>\n",
       "      <th>FTD</th>\n",
       "      <th>RD</th>\n",
       "      <th>DEPOSITS AMOUNT</th>\n",
       "      <th>Payout</th>\n",
       "      <th>GGR</th>\n",
       "    </tr>\n",
       "  </thead>\n",
       "  <tbody>\n",
       "    <tr>\n",
       "      <th>0</th>\n",
       "      <td>nex2</td>\n",
       "      <td>1</td>\n",
       "      <td>1</td>\n",
       "      <td>1</td>\n",
       "      <td>1</td>\n",
       "      <td>1</td>\n",
       "      <td>1</td>\n",
       "      <td>1</td>\n",
       "      <td>1</td>\n",
       "    </tr>\n",
       "    <tr>\n",
       "      <th>1</th>\n",
       "      <td>sbr21</td>\n",
       "      <td>2</td>\n",
       "      <td>2</td>\n",
       "      <td>2</td>\n",
       "      <td>2</td>\n",
       "      <td>2</td>\n",
       "      <td>2</td>\n",
       "      <td>2</td>\n",
       "      <td>2</td>\n",
       "    </tr>\n",
       "    <tr>\n",
       "      <th>2</th>\n",
       "      <td>nex1</td>\n",
       "      <td>3</td>\n",
       "      <td>3</td>\n",
       "      <td>3</td>\n",
       "      <td>3</td>\n",
       "      <td>3</td>\n",
       "      <td>3</td>\n",
       "      <td>3</td>\n",
       "      <td>3</td>\n",
       "    </tr>\n",
       "    <tr>\n",
       "      <th>3</th>\n",
       "      <td>rah1</td>\n",
       "      <td>4</td>\n",
       "      <td>4</td>\n",
       "      <td>4</td>\n",
       "      <td>4</td>\n",
       "      <td>4</td>\n",
       "      <td>4</td>\n",
       "      <td>4</td>\n",
       "      <td>4</td>\n",
       "    </tr>\n",
       "    <tr>\n",
       "      <th>4</th>\n",
       "      <td>sbr11</td>\n",
       "      <td>5</td>\n",
       "      <td>5</td>\n",
       "      <td>5</td>\n",
       "      <td>5</td>\n",
       "      <td>5</td>\n",
       "      <td>5</td>\n",
       "      <td>5</td>\n",
       "      <td>5</td>\n",
       "    </tr>\n",
       "    <tr>\n",
       "      <th>5</th>\n",
       "      <td>sbr</td>\n",
       "      <td>6</td>\n",
       "      <td>6</td>\n",
       "      <td>6</td>\n",
       "      <td>6</td>\n",
       "      <td>6</td>\n",
       "      <td>6</td>\n",
       "      <td>6</td>\n",
       "      <td>6</td>\n",
       "    </tr>\n",
       "    <tr>\n",
       "      <th>6</th>\n",
       "      <td>sbr22</td>\n",
       "      <td>7</td>\n",
       "      <td>7</td>\n",
       "      <td>7</td>\n",
       "      <td>7</td>\n",
       "      <td>7</td>\n",
       "      <td>7</td>\n",
       "      <td>7</td>\n",
       "      <td>7</td>\n",
       "    </tr>\n",
       "  </tbody>\n",
       "</table>\n",
       "</div>"
      ],
      "text/plain": [
       "  Sub ID 2 Total number of clicks Unique clicks count Registrations FTD RD  \\\n",
       "0     nex2                      1                   1             1   1  1   \n",
       "1    sbr21                      2                   2             2   2  2   \n",
       "2     nex1                      3                   3             3   3  3   \n",
       "3     rah1                      4                   4             4   4  4   \n",
       "4    sbr11                      5                   5             5   5  5   \n",
       "5      sbr                      6                   6             6   6  6   \n",
       "6    sbr22                      7                   7             7   7  7   \n",
       "\n",
       "  DEPOSITS AMOUNT Payout GGR  \n",
       "0               1      1   1  \n",
       "1               2      2   2  \n",
       "2               3      3   3  \n",
       "3               4      4   4  \n",
       "4               5      5   5  \n",
       "5               6      6   6  \n",
       "6               7      7   7  "
      ]
     },
     "execution_count": 221,
     "metadata": {},
     "output_type": "execute_result"
    }
   ],
   "source": [
    "Alan_pd"
   ]
  },
  {
   "cell_type": "code",
   "execution_count": 222,
   "metadata": {},
   "outputs": [
    {
     "data": {
      "text/html": [
       "<div>\n",
       "<style scoped>\n",
       "    .dataframe tbody tr th:only-of-type {\n",
       "        vertical-align: middle;\n",
       "    }\n",
       "\n",
       "    .dataframe tbody tr th {\n",
       "        vertical-align: top;\n",
       "    }\n",
       "\n",
       "    .dataframe thead th {\n",
       "        text-align: right;\n",
       "    }\n",
       "</style>\n",
       "<table border=\"1\" class=\"dataframe\">\n",
       "  <thead>\n",
       "    <tr style=\"text-align: right;\">\n",
       "      <th></th>\n",
       "      <th>Ссылка на аккаунт исполнителя</th>\n",
       "      <th>Тип менеджера исполнителя</th>\n",
       "      <th>тг id менеджера исполнителя</th>\n",
       "      <th>Кол-во исполнителей</th>\n",
       "      <th>тип контракта</th>\n",
       "      <th>Sub ID 2</th>\n",
       "      <th>Дата выхода интеграции</th>\n",
       "      <th>Расходы в Rs</th>\n",
       "      <th>трек ссылка</th>\n",
       "    </tr>\n",
       "  </thead>\n",
       "  <tbody>\n",
       "    <tr>\n",
       "      <th>0</th>\n",
       "      <td>https://www.instagram.com/zakhmi.writess_?igsh...</td>\n",
       "      <td>Блогеры ищеек</td>\n",
       "      <td>999999999999</td>\n",
       "      <td>1</td>\n",
       "      <td>Контракт №1</td>\n",
       "      <td>sbr11</td>\n",
       "      <td>3/25/2024 13:40:08</td>\n",
       "      <td>7864287</td>\n",
       "      <td>https://click.tracktik24.com/DKyNxpZ4?landing=...</td>\n",
       "    </tr>\n",
       "    <tr>\n",
       "      <th>1</th>\n",
       "      <td></td>\n",
       "      <td>Агентства</td>\n",
       "      <td>77777777</td>\n",
       "      <td>1672</td>\n",
       "      <td>Контракт №1</td>\n",
       "      <td>nex1</td>\n",
       "      <td></td>\n",
       "      <td>1800000</td>\n",
       "      <td>https://click.tracktik24.com/DKyNxpZ4?landing=...</td>\n",
       "    </tr>\n",
       "    <tr>\n",
       "      <th>2</th>\n",
       "      <td></td>\n",
       "      <td>Агентства</td>\n",
       "      <td>8888888888</td>\n",
       "      <td>1089</td>\n",
       "      <td>Контракт №1</td>\n",
       "      <td>rah1</td>\n",
       "      <td></td>\n",
       "      <td>786890</td>\n",
       "      <td>https://click.tracktik24.com/DKyNxpZ4?landing=...</td>\n",
       "    </tr>\n",
       "    <tr>\n",
       "      <th>3</th>\n",
       "      <td>https://www.instagram.com/the_challengers07?ig...</td>\n",
       "      <td>Крупные интеграции</td>\n",
       "      <td>10000000</td>\n",
       "      <td>1</td>\n",
       "      <td>Контракт №1</td>\n",
       "      <td>sbr</td>\n",
       "      <td>22.05.2024</td>\n",
       "      <td>9878759</td>\n",
       "      <td>https://click.tracktik24.com/DKyNxpZ4?landing=...</td>\n",
       "    </tr>\n",
       "    <tr>\n",
       "      <th>4</th>\n",
       "      <td>https://www.instagram.com/pahadi_vlogger22?igs...</td>\n",
       "      <td>Блогеры ищеек</td>\n",
       "      <td>9888888888</td>\n",
       "      <td>1</td>\n",
       "      <td>Контракт №2</td>\n",
       "      <td>sbr21</td>\n",
       "      <td>3/25/2024 17:25:12</td>\n",
       "      <td>4287</td>\n",
       "      <td>https://click.tracktik24.com/DKyNxpZ4?landing=...</td>\n",
       "    </tr>\n",
       "    <tr>\n",
       "      <th>5</th>\n",
       "      <td>https://www.instagram.com/pahadi_vlogger22?igs...</td>\n",
       "      <td>Блогеры ищеек</td>\n",
       "      <td>11111111111111</td>\n",
       "      <td>1</td>\n",
       "      <td>Контракт №2</td>\n",
       "      <td>sbr22</td>\n",
       "      <td>3/25/2024 17:25:12</td>\n",
       "      <td>4287</td>\n",
       "      <td>https://click.tracktik24.com/DKyNxpZ4?landing=...</td>\n",
       "    </tr>\n",
       "    <tr>\n",
       "      <th>6</th>\n",
       "      <td></td>\n",
       "      <td>Агентства</td>\n",
       "      <td>77777777</td>\n",
       "      <td>2567</td>\n",
       "      <td>Контракт №2</td>\n",
       "      <td>nex2</td>\n",
       "      <td></td>\n",
       "      <td>7000000</td>\n",
       "      <td>https://click.tracktik24.com/DKyNxpZ4?landing=...</td>\n",
       "    </tr>\n",
       "  </tbody>\n",
       "</table>\n",
       "</div>"
      ],
      "text/plain": [
       "                       Ссылка на аккаунт исполнителя  \\\n",
       "0  https://www.instagram.com/zakhmi.writess_?igsh...   \n",
       "1                                                      \n",
       "2                                                      \n",
       "3  https://www.instagram.com/the_challengers07?ig...   \n",
       "4  https://www.instagram.com/pahadi_vlogger22?igs...   \n",
       "5  https://www.instagram.com/pahadi_vlogger22?igs...   \n",
       "6                                                      \n",
       "\n",
       "  Тип менеджера исполнителя тг id менеджера исполнителя Кол-во исполнителей  \\\n",
       "0             Блогеры ищеек                999999999999                   1   \n",
       "1                 Агентства                    77777777                1672   \n",
       "2                 Агентства                  8888888888                1089   \n",
       "3        Крупные интеграции                    10000000                   1   \n",
       "4             Блогеры ищеек                  9888888888                   1   \n",
       "5             Блогеры ищеек              11111111111111                   1   \n",
       "6                 Агентства                    77777777                2567   \n",
       "\n",
       "  тип контракта Sub ID 2 Дата выхода интеграции Расходы в Rs  \\\n",
       "0   Контракт №1    sbr11     3/25/2024 13:40:08      7864287   \n",
       "1   Контракт №1     nex1                             1800000   \n",
       "2   Контракт №1     rah1                              786890   \n",
       "3   Контракт №1      sbr             22.05.2024      9878759   \n",
       "4   Контракт №2    sbr21     3/25/2024 17:25:12         4287   \n",
       "5   Контракт №2    sbr22     3/25/2024 17:25:12         4287   \n",
       "6   Контракт №2     nex2                             7000000   \n",
       "\n",
       "                                         трек ссылка  \n",
       "0  https://click.tracktik24.com/DKyNxpZ4?landing=...  \n",
       "1  https://click.tracktik24.com/DKyNxpZ4?landing=...  \n",
       "2  https://click.tracktik24.com/DKyNxpZ4?landing=...  \n",
       "3  https://click.tracktik24.com/DKyNxpZ4?landing=...  \n",
       "4  https://click.tracktik24.com/DKyNxpZ4?landing=...  \n",
       "5  https://click.tracktik24.com/DKyNxpZ4?landing=...  \n",
       "6  https://click.tracktik24.com/DKyNxpZ4?landing=...  "
      ]
     },
     "execution_count": 222,
     "metadata": {},
     "output_type": "execute_result"
    }
   ],
   "source": [
    "aggregate_tables_pd"
   ]
  },
  {
   "cell_type": "code",
   "execution_count": 223,
   "metadata": {},
   "outputs": [
    {
     "data": {
      "text/html": [
       "<div>\n",
       "<style scoped>\n",
       "    .dataframe tbody tr th:only-of-type {\n",
       "        vertical-align: middle;\n",
       "    }\n",
       "\n",
       "    .dataframe tbody tr th {\n",
       "        vertical-align: top;\n",
       "    }\n",
       "\n",
       "    .dataframe thead th {\n",
       "        text-align: right;\n",
       "    }\n",
       "</style>\n",
       "<table border=\"1\" class=\"dataframe\">\n",
       "  <thead>\n",
       "    <tr style=\"text-align: right;\">\n",
       "      <th></th>\n",
       "      <th>Ссылка на аккаунт исполнителя</th>\n",
       "      <th>Тип менеджера исполнителя</th>\n",
       "      <th>тг id менеджера исполнителя</th>\n",
       "      <th>Кол-во исполнителей</th>\n",
       "      <th>тип контракта</th>\n",
       "      <th>Sub ID 2</th>\n",
       "      <th>Дата выхода интеграции</th>\n",
       "      <th>Расходы в Rs</th>\n",
       "      <th>трек ссылка</th>\n",
       "      <th>Total number of clicks</th>\n",
       "      <th>Unique clicks count</th>\n",
       "      <th>Registrations</th>\n",
       "      <th>FTD</th>\n",
       "      <th>RD</th>\n",
       "      <th>DEPOSITS AMOUNT</th>\n",
       "      <th>Payout</th>\n",
       "      <th>GGR</th>\n",
       "    </tr>\n",
       "  </thead>\n",
       "  <tbody>\n",
       "    <tr>\n",
       "      <th>0</th>\n",
       "      <td>https://www.instagram.com/zakhmi.writess_?igsh...</td>\n",
       "      <td>Блогеры ищеек</td>\n",
       "      <td>999999999999</td>\n",
       "      <td>1</td>\n",
       "      <td>Контракт №1</td>\n",
       "      <td>sbr11</td>\n",
       "      <td>3/25/2024 13:40:08</td>\n",
       "      <td>7864287</td>\n",
       "      <td>https://click.tracktik24.com/DKyNxpZ4?landing=...</td>\n",
       "      <td>5</td>\n",
       "      <td>5</td>\n",
       "      <td>5</td>\n",
       "      <td>5</td>\n",
       "      <td>5</td>\n",
       "      <td>5</td>\n",
       "      <td>5</td>\n",
       "      <td>5</td>\n",
       "    </tr>\n",
       "    <tr>\n",
       "      <th>1</th>\n",
       "      <td></td>\n",
       "      <td>Агентства</td>\n",
       "      <td>77777777</td>\n",
       "      <td>1672</td>\n",
       "      <td>Контракт №1</td>\n",
       "      <td>nex1</td>\n",
       "      <td></td>\n",
       "      <td>1800000</td>\n",
       "      <td>https://click.tracktik24.com/DKyNxpZ4?landing=...</td>\n",
       "      <td>3</td>\n",
       "      <td>3</td>\n",
       "      <td>3</td>\n",
       "      <td>3</td>\n",
       "      <td>3</td>\n",
       "      <td>3</td>\n",
       "      <td>3</td>\n",
       "      <td>3</td>\n",
       "    </tr>\n",
       "    <tr>\n",
       "      <th>2</th>\n",
       "      <td></td>\n",
       "      <td>Агентства</td>\n",
       "      <td>8888888888</td>\n",
       "      <td>1089</td>\n",
       "      <td>Контракт №1</td>\n",
       "      <td>rah1</td>\n",
       "      <td></td>\n",
       "      <td>786890</td>\n",
       "      <td>https://click.tracktik24.com/DKyNxpZ4?landing=...</td>\n",
       "      <td>4</td>\n",
       "      <td>4</td>\n",
       "      <td>4</td>\n",
       "      <td>4</td>\n",
       "      <td>4</td>\n",
       "      <td>4</td>\n",
       "      <td>4</td>\n",
       "      <td>4</td>\n",
       "    </tr>\n",
       "    <tr>\n",
       "      <th>3</th>\n",
       "      <td>https://www.instagram.com/the_challengers07?ig...</td>\n",
       "      <td>Крупные интеграции</td>\n",
       "      <td>10000000</td>\n",
       "      <td>1</td>\n",
       "      <td>Контракт №1</td>\n",
       "      <td>sbr</td>\n",
       "      <td>22.05.2024</td>\n",
       "      <td>9878759</td>\n",
       "      <td>https://click.tracktik24.com/DKyNxpZ4?landing=...</td>\n",
       "      <td>6</td>\n",
       "      <td>6</td>\n",
       "      <td>6</td>\n",
       "      <td>6</td>\n",
       "      <td>6</td>\n",
       "      <td>6</td>\n",
       "      <td>6</td>\n",
       "      <td>6</td>\n",
       "    </tr>\n",
       "    <tr>\n",
       "      <th>4</th>\n",
       "      <td>https://www.instagram.com/pahadi_vlogger22?igs...</td>\n",
       "      <td>Блогеры ищеек</td>\n",
       "      <td>9888888888</td>\n",
       "      <td>1</td>\n",
       "      <td>Контракт №2</td>\n",
       "      <td>sbr21</td>\n",
       "      <td>3/25/2024 17:25:12</td>\n",
       "      <td>4287</td>\n",
       "      <td>https://click.tracktik24.com/DKyNxpZ4?landing=...</td>\n",
       "      <td>2</td>\n",
       "      <td>2</td>\n",
       "      <td>2</td>\n",
       "      <td>2</td>\n",
       "      <td>2</td>\n",
       "      <td>2</td>\n",
       "      <td>2</td>\n",
       "      <td>2</td>\n",
       "    </tr>\n",
       "    <tr>\n",
       "      <th>5</th>\n",
       "      <td>https://www.instagram.com/pahadi_vlogger22?igs...</td>\n",
       "      <td>Блогеры ищеек</td>\n",
       "      <td>11111111111111</td>\n",
       "      <td>1</td>\n",
       "      <td>Контракт №2</td>\n",
       "      <td>sbr22</td>\n",
       "      <td>3/25/2024 17:25:12</td>\n",
       "      <td>4287</td>\n",
       "      <td>https://click.tracktik24.com/DKyNxpZ4?landing=...</td>\n",
       "      <td>7</td>\n",
       "      <td>7</td>\n",
       "      <td>7</td>\n",
       "      <td>7</td>\n",
       "      <td>7</td>\n",
       "      <td>7</td>\n",
       "      <td>7</td>\n",
       "      <td>7</td>\n",
       "    </tr>\n",
       "    <tr>\n",
       "      <th>6</th>\n",
       "      <td></td>\n",
       "      <td>Агентства</td>\n",
       "      <td>77777777</td>\n",
       "      <td>2567</td>\n",
       "      <td>Контракт №2</td>\n",
       "      <td>nex2</td>\n",
       "      <td></td>\n",
       "      <td>7000000</td>\n",
       "      <td>https://click.tracktik24.com/DKyNxpZ4?landing=...</td>\n",
       "      <td>1</td>\n",
       "      <td>1</td>\n",
       "      <td>1</td>\n",
       "      <td>1</td>\n",
       "      <td>1</td>\n",
       "      <td>1</td>\n",
       "      <td>1</td>\n",
       "      <td>1</td>\n",
       "    </tr>\n",
       "  </tbody>\n",
       "</table>\n",
       "</div>"
      ],
      "text/plain": [
       "                       Ссылка на аккаунт исполнителя  \\\n",
       "0  https://www.instagram.com/zakhmi.writess_?igsh...   \n",
       "1                                                      \n",
       "2                                                      \n",
       "3  https://www.instagram.com/the_challengers07?ig...   \n",
       "4  https://www.instagram.com/pahadi_vlogger22?igs...   \n",
       "5  https://www.instagram.com/pahadi_vlogger22?igs...   \n",
       "6                                                      \n",
       "\n",
       "  Тип менеджера исполнителя тг id менеджера исполнителя Кол-во исполнителей  \\\n",
       "0             Блогеры ищеек                999999999999                   1   \n",
       "1                 Агентства                    77777777                1672   \n",
       "2                 Агентства                  8888888888                1089   \n",
       "3        Крупные интеграции                    10000000                   1   \n",
       "4             Блогеры ищеек                  9888888888                   1   \n",
       "5             Блогеры ищеек              11111111111111                   1   \n",
       "6                 Агентства                    77777777                2567   \n",
       "\n",
       "  тип контракта Sub ID 2 Дата выхода интеграции Расходы в Rs  \\\n",
       "0   Контракт №1    sbr11     3/25/2024 13:40:08      7864287   \n",
       "1   Контракт №1     nex1                             1800000   \n",
       "2   Контракт №1     rah1                              786890   \n",
       "3   Контракт №1      sbr             22.05.2024      9878759   \n",
       "4   Контракт №2    sbr21     3/25/2024 17:25:12         4287   \n",
       "5   Контракт №2    sbr22     3/25/2024 17:25:12         4287   \n",
       "6   Контракт №2     nex2                             7000000   \n",
       "\n",
       "                                         трек ссылка Total number of clicks  \\\n",
       "0  https://click.tracktik24.com/DKyNxpZ4?landing=...                      5   \n",
       "1  https://click.tracktik24.com/DKyNxpZ4?landing=...                      3   \n",
       "2  https://click.tracktik24.com/DKyNxpZ4?landing=...                      4   \n",
       "3  https://click.tracktik24.com/DKyNxpZ4?landing=...                      6   \n",
       "4  https://click.tracktik24.com/DKyNxpZ4?landing=...                      2   \n",
       "5  https://click.tracktik24.com/DKyNxpZ4?landing=...                      7   \n",
       "6  https://click.tracktik24.com/DKyNxpZ4?landing=...                      1   \n",
       "\n",
       "  Unique clicks count Registrations FTD RD DEPOSITS AMOUNT Payout GGR  \n",
       "0                   5             5   5  5               5      5   5  \n",
       "1                   3             3   3  3               3      3   3  \n",
       "2                   4             4   4  4               4      4   4  \n",
       "3                   6             6   6  6               6      6   6  \n",
       "4                   2             2   2  2               2      2   2  \n",
       "5                   7             7   7  7               7      7   7  \n",
       "6                   1             1   1  1               1      1   1  "
      ]
     },
     "execution_count": 223,
     "metadata": {},
     "output_type": "execute_result"
    }
   ],
   "source": [
    "df_manual.fillna(\"None\", inplace=True)\n",
    "df_manual"
   ]
  },
  {
   "cell_type": "code",
   "execution_count": 224,
   "metadata": {},
   "outputs": [
    {
     "data": {
      "text/plain": [
       "[['https://www.instagram.com/zakhmi.writess_?igsh=dDlzdTY4aHgzMHU3',\n",
       "  'Блогеры ищеек',\n",
       "  '999999999999',\n",
       "  1,\n",
       "  'Контракт №1',\n",
       "  'sbr11',\n",
       "  '3/25/2024 13:40:08',\n",
       "  '7864287',\n",
       "  'https://click.tracktik24.com/DKyNxpZ4?landing=57&sub_id1=holi&sub_id2=sbr11&sub_id3=h257',\n",
       "  '5',\n",
       "  '5',\n",
       "  '5',\n",
       "  '5',\n",
       "  '5',\n",
       "  '5',\n",
       "  '5',\n",
       "  '5'],\n",
       " ['',\n",
       "  'Агентства',\n",
       "  '77777777',\n",
       "  '1672',\n",
       "  'Контракт №1',\n",
       "  'nex1',\n",
       "  '',\n",
       "  '1800000',\n",
       "  'https://click.tracktik24.com/DKyNxpZ4?landing=57&sub_id1=holi&sub_id2=nex1&sub_id3=h3',\n",
       "  '3',\n",
       "  '3',\n",
       "  '3',\n",
       "  '3',\n",
       "  '3',\n",
       "  '3',\n",
       "  '3',\n",
       "  '3'],\n",
       " ['',\n",
       "  'Агентства',\n",
       "  '8888888888',\n",
       "  '1089',\n",
       "  'Контракт №1',\n",
       "  'rah1',\n",
       "  '',\n",
       "  '786890',\n",
       "  'https://click.tracktik24.com/DKyNxpZ4?landing=57&sub_id1=holi&sub_id2=rah1&sub_id3=h3',\n",
       "  '4',\n",
       "  '4',\n",
       "  '4',\n",
       "  '4',\n",
       "  '4',\n",
       "  '4',\n",
       "  '4',\n",
       "  '4'],\n",
       " ['https://www.instagram.com/the_challengers07?igsh=dWdsdmxndnZpcDVm',\n",
       "  'Крупные интеграции',\n",
       "  '10000000',\n",
       "  1,\n",
       "  'Контракт №1',\n",
       "  'sbr',\n",
       "  '22.05.2024',\n",
       "  '9878759',\n",
       "  'https://click.tracktik24.com/DKyNxpZ4?landing=57&sub_id1=holi&sub_id2=sbr&sub_id3=h98',\n",
       "  '6',\n",
       "  '6',\n",
       "  '6',\n",
       "  '6',\n",
       "  '6',\n",
       "  '6',\n",
       "  '6',\n",
       "  '6'],\n",
       " ['https://www.instagram.com/pahadi_vlogger22?igsh=cGx2cjNreXVuZ3Vs',\n",
       "  'Блогеры ищеек',\n",
       "  '9888888888',\n",
       "  1,\n",
       "  'Контракт №2',\n",
       "  'sbr21',\n",
       "  '3/25/2024 17:25:12',\n",
       "  '4287',\n",
       "  'https://click.tracktik24.com/DKyNxpZ4?landing=57&sub_id1=holi&sub_id2=sbr21&sub_id3=h3',\n",
       "  '2',\n",
       "  '2',\n",
       "  '2',\n",
       "  '2',\n",
       "  '2',\n",
       "  '2',\n",
       "  '2',\n",
       "  '2'],\n",
       " ['https://www.instagram.com/pahadi_vlogger22?igsh=cGx2cjNreXVuZ3Vs',\n",
       "  'Блогеры ищеек',\n",
       "  '11111111111111',\n",
       "  1,\n",
       "  'Контракт №2',\n",
       "  'sbr22',\n",
       "  '3/25/2024 17:25:12',\n",
       "  '4287',\n",
       "  'https://click.tracktik24.com/DKyNxpZ4?landing=57&sub_id1=holi&sub_id2=sbr22&sub_id3=h3',\n",
       "  '7',\n",
       "  '7',\n",
       "  '7',\n",
       "  '7',\n",
       "  '7',\n",
       "  '7',\n",
       "  '7',\n",
       "  '7'],\n",
       " ['',\n",
       "  'Агентства',\n",
       "  '77777777',\n",
       "  '2567',\n",
       "  'Контракт №2',\n",
       "  'nex2',\n",
       "  '',\n",
       "  '7000000',\n",
       "  'https://click.tracktik24.com/DKyNxpZ4?landing=57&sub_id1=holi&sub_id2=nex2&sub_id3=h3',\n",
       "  '1',\n",
       "  '1',\n",
       "  '1',\n",
       "  '1',\n",
       "  '1',\n",
       "  '1',\n",
       "  '1',\n",
       "  '1']]"
      ]
     },
     "execution_count": 224,
     "metadata": {},
     "output_type": "execute_result"
    }
   ],
   "source": [
    "def to_transport(df_manual):\n",
    "    # Транспонирование DataFrame и преобразование в словарь\n",
    "    df_manual_transposed = df_manual.transpose()\n",
    "    aggregate_tables = df_manual_transposed.to_dict()\n",
    "\n",
    "    # Преобразование словаря в список списков\n",
    "    aggregate_tables_result = []\n",
    "    for key in aggregate_tables.keys():\n",
    "        aggregate_row = []\n",
    "        for sub_key in aggregate_tables[key]:\n",
    "            aggregate_row.append(aggregate_tables[key][sub_key])\n",
    "        aggregate_tables_result.append(aggregate_row)\n",
    "    aggregate_tables_result\n",
    "    return(aggregate_tables_result)\n",
    "    \n",
    "aggregate_tables_result = to_transport(df_manual)\n",
    "aggregate_tables_result"
   ]
  },
  {
   "cell_type": "markdown",
   "metadata": {},
   "source": [
    "### Загрузка данные в таблицу Total"
   ]
  },
  {
   "cell_type": "code",
   "execution_count": 225,
   "metadata": {},
   "outputs": [
    {
     "name": "stderr",
     "output_type": "stream",
     "text": [
      "INFO:googleapiclient.discovery_cache:file_cache is only supported with oauth2client<4.0.0\n",
      "INFO:__main__:Отправка запроса обновления данных: {'valueInputOption': 'USER_ENTERED', 'data': [{'range': 'Общая выгрузка!A2:Q', 'values': [['https://www.instagram.com/zakhmi.writess_?igsh=dDlzdTY4aHgzMHU3', 'Блогеры ищеек', '999999999999', 1, 'Контракт №1', 'sbr11', '3/25/2024 13:40:08', '7864287', 'https://click.tracktik24.com/DKyNxpZ4?landing=57&sub_id1=holi&sub_id2=sbr11&sub_id3=h257', '5', '5', '5', '5', '5', '5', '5', '5'], ['', 'Агентства', '77777777', '1672', 'Контракт №1', 'nex1', '', '1800000', 'https://click.tracktik24.com/DKyNxpZ4?landing=57&sub_id1=holi&sub_id2=nex1&sub_id3=h3', '3', '3', '3', '3', '3', '3', '3', '3'], ['', 'Агентства', '8888888888', '1089', 'Контракт №1', 'rah1', '', '786890', 'https://click.tracktik24.com/DKyNxpZ4?landing=57&sub_id1=holi&sub_id2=rah1&sub_id3=h3', '4', '4', '4', '4', '4', '4', '4', '4'], ['https://www.instagram.com/the_challengers07?igsh=dWdsdmxndnZpcDVm', 'Крупные интеграции', '10000000', 1, 'Контракт №1', 'sbr', '22.05.2024', '9878759', 'https://click.tracktik24.com/DKyNxpZ4?landing=57&sub_id1=holi&sub_id2=sbr&sub_id3=h98', '6', '6', '6', '6', '6', '6', '6', '6'], ['https://www.instagram.com/pahadi_vlogger22?igsh=cGx2cjNreXVuZ3Vs', 'Блогеры ищеек', '9888888888', 1, 'Контракт №2', 'sbr21', '3/25/2024 17:25:12', '4287', 'https://click.tracktik24.com/DKyNxpZ4?landing=57&sub_id1=holi&sub_id2=sbr21&sub_id3=h3', '2', '2', '2', '2', '2', '2', '2', '2'], ['https://www.instagram.com/pahadi_vlogger22?igsh=cGx2cjNreXVuZ3Vs', 'Блогеры ищеек', '11111111111111', 1, 'Контракт №2', 'sbr22', '3/25/2024 17:25:12', '4287', 'https://click.tracktik24.com/DKyNxpZ4?landing=57&sub_id1=holi&sub_id2=sbr22&sub_id3=h3', '7', '7', '7', '7', '7', '7', '7', '7'], ['', 'Агентства', '77777777', '2567', 'Контракт №2', 'nex2', '', '7000000', 'https://click.tracktik24.com/DKyNxpZ4?landing=57&sub_id1=holi&sub_id2=nex2&sub_id3=h3', '1', '1', '1', '1', '1', '1', '1', '1']]}]}\n",
      "INFO:__main__:Получен результат: {'spreadsheetId': '1X-THzy2TpMsBAxpR6WlIH1V9TrKgr5kH6ajLJ6fELYM', 'totalUpdatedRows': 7, 'totalUpdatedColumns': 17, 'totalUpdatedCells': 119, 'totalUpdatedSheets': 1, 'responses': [{'spreadsheetId': '1X-THzy2TpMsBAxpR6WlIH1V9TrKgr5kH6ajLJ6fELYM', 'updatedRange': \"'Общая выгрузка'!A2:Q8\", 'updatedRows': 7, 'updatedColumns': 17, 'updatedCells': 119}]}\n"
     ]
    },
    {
     "name": "stdout",
     "output_type": "stream",
     "text": [
      "119 cells updated.\n"
     ]
    }
   ],
   "source": [
    "from googleapiclient.discovery import build\n",
    "from google_auth_oauthlib.flow import InstalledAppFlow\n",
    "from google.auth.transport.requests import Request\n",
    "from google.oauth2.credentials import Credentials\n",
    "import os.path\n",
    "import logging\n",
    "\n",
    "# Настройка логгера\n",
    "logging.basicConfig(level=logging.INFO)\n",
    "logger = logging.getLogger(__name__)\n",
    "\n",
    "SCOPES = [\"https://www.googleapis.com/auth/spreadsheets\"] #права на работу с данной таблицей (readonly)\n",
    "\n",
    "def update_table(SAMPLE_SPREADSHEET_ID, SAMPLE_RANGE_NAME, values):\n",
    "    \"\"\"Update values in a sample spreadsheet.\"\"\"\n",
    "    creds = None\n",
    "    if os.path.exists(\"token.json\"):\n",
    "        creds = Credentials.from_authorized_user_file(\"token.json\", SCOPES)\n",
    "    if not creds or not creds.valid:\n",
    "        if creds and creds.expired and creds.refresh_token:\n",
    "            creds.refresh(Request())\n",
    "        else:\n",
    "            flow = InstalledAppFlow.from_client_secrets_file(\n",
    "                \"credentials.json\", SCOPES \n",
    "            )\n",
    "            creds = flow.run_local_server(port=0)\n",
    "        with open(\"token.json\", \"w\") as token:\n",
    "            token.write(creds.to_json())\n",
    "\n",
    "    try:\n",
    "        service = build(\"sheets\", \"v4\", credentials=creds)\n",
    "\n",
    "        # Очистка диапазона перед добавлением новой таблицы\n",
    "        clear_range(service, SAMPLE_SPREADSHEET_ID, SAMPLE_RANGE_NAME)\n",
    "\n",
    "        data = [{\n",
    "            'range': SAMPLE_RANGE_NAME,\n",
    "            'values': values\n",
    "        }]\n",
    "        body = {\n",
    "            'valueInputOption': 'USER_ENTERED',\n",
    "            'data': data\n",
    "        }\n",
    "        logger.info(f\"Отправка запроса обновления данных: {body}\")  # Логируем данные запроса\n",
    "        result = service.spreadsheets().values().batchUpdate(spreadsheetId=SAMPLE_SPREADSHEET_ID, body=body).execute()\n",
    "        logger.info(f\"Получен результат: {result}\")  # Логируем результат запроса\n",
    "        print('{0} cells updated.'.format(result.get('totalUpdatedCells')))\n",
    "        \n",
    "    except Exception as err:\n",
    "        logger.error(f\"Произошла ошибка: {err}\")  # Логируем ошибку\n",
    "\n",
    "def clear_range(service, spreadsheet_id, range_name):\n",
    "    \"\"\"Clears the specified range of values in a spreadsheet.\"\"\"\n",
    "    request = service.spreadsheets().values().clear(\n",
    "        spreadsheetId=spreadsheet_id,\n",
    "        range=range_name,\n",
    "        body={}\n",
    "    )\n",
    "    response = request.execute()\n",
    "\n",
    "def main():\n",
    "    SAMPLE_SPREADSHEET_ID = '1X-THzy2TpMsBAxpR6WlIH1V9TrKgr5kH6ajLJ6fELYM' # Замените на ID вашей таблицы\n",
    "    SAMPLE_RANGE_NAME = 'Общая выгрузка!A2:Q' # Замените на нужный вам диапазон\n",
    "    values = aggregate_tables_result # Замените на свои данные\n",
    "    update_table(SAMPLE_SPREADSHEET_ID, SAMPLE_RANGE_NAME, values)\n",
    "\n",
    "if __name__ == '__main__':\n",
    "    main()  \n"
   ]
  },
  {
   "cell_type": "markdown",
   "metadata": {},
   "source": [
    "# Вывод аналитики"
   ]
  },
  {
   "cell_type": "code",
   "execution_count": 226,
   "metadata": {},
   "outputs": [
    {
     "name": "stdout",
     "output_type": "stream",
     "text": [
      "<class 'pandas.core.frame.DataFrame'>\n",
      "RangeIndex: 7 entries, 0 to 6\n",
      "Data columns (total 17 columns):\n",
      " #   Column                         Non-Null Count  Dtype \n",
      "---  ------                         --------------  ----- \n",
      " 0   Ссылка на аккаунт исполнителя  7 non-null      object\n",
      " 1   Тип менеджера исполнителя      7 non-null      object\n",
      " 2   тг id менеджера исполнителя    7 non-null      object\n",
      " 3   Кол-во исполнителей            7 non-null      object\n",
      " 4   тип контракта                  7 non-null      object\n",
      " 5   Sub ID 2                       7 non-null      object\n",
      " 6   Дата выхода интеграции         7 non-null      object\n",
      " 7   Расходы в Rs                   7 non-null      object\n",
      " 8   трек ссылка                    7 non-null      object\n",
      " 9   Total number of clicks         7 non-null      object\n",
      " 10  Unique clicks count            7 non-null      object\n",
      " 11  Registrations                  7 non-null      object\n",
      " 12  FTD                            7 non-null      object\n",
      " 13  RD                             7 non-null      object\n",
      " 14  DEPOSITS AMOUNT                7 non-null      object\n",
      " 15  Payout                         7 non-null      object\n",
      " 16  GGR                            7 non-null      object\n",
      "dtypes: object(17)\n",
      "memory usage: 1.1+ KB\n"
     ]
    }
   ],
   "source": [
    "df_manual.info()\n",
    "\n"
   ]
  },
  {
   "cell_type": "markdown",
   "metadata": {},
   "source": [
    "### Заполним в листе 'Анализ менеджеров и испольнителей контрактов' левый три основные мини таблицы"
   ]
  },
  {
   "cell_type": "markdown",
   "metadata": {},
   "source": [
    "Напишем функцию, которая считает метрики"
   ]
  },
  {
   "cell_type": "code",
   "execution_count": 278,
   "metadata": {},
   "outputs": [],
   "source": [
    "# Переименовываем одну из переменных с именем metrics\n",
    "metrics_list = ['Unique click price', 'Registration price', \n",
    "                'deposit price', 'FTD price', 'Unique clicks per blogger', \n",
    "                'Unique clicks/ registration', 'Unique clicks count/FTD', 'Registrations/FTD', \n",
    "                'average deposit']\n",
    "\n",
    "def calculate_metrics(sum_table):\n",
    "    metrics_dict = {}\n",
    "    metrics_dict['Unique click price'] = sum_table['Расходы в Rs'] / sum_table['Unique clicks count']\n",
    "    metrics_dict['Registration price'] = sum_table['Расходы в Rs'] / sum_table['Registrations']\n",
    "    metrics_dict['deposit price'] = sum_table['Расходы в Rs'] / (sum_table['FTD'] + sum_table['RD'])\n",
    "    metrics_dict['FTD price'] = sum_table['Расходы в Rs'] / sum_table['FTD']\n",
    "    metrics_dict['Unique clicks per blogger'] = sum_table['Unique clicks count'] / sum_table['Кол-во исполнителей']\n",
    "    metrics_dict['Unique clicks/ registration'] = sum_table['Unique clicks count'] / sum_table['Registrations']\n",
    "    metrics_dict['Unique clicks count/FTD'] = sum_table['Unique clicks count'] / sum_table['FTD']\n",
    "    metrics_dict['Registrations/FTD'] = sum_table['Registrations'] / sum_table['FTD']\n",
    "    metrics_dict['average deposit'] = sum_table['DEPOSITS AMOUNT'] / (sum_table['FTD'] + sum_table['RD'])\n",
    "    return metrics_dict"
   ]
  },
  {
   "cell_type": "code",
   "execution_count": 279,
   "metadata": {},
   "outputs": [],
   "source": [
    "for elem in ['Кол-во исполнителей', 'Total number of clicks', 'Unique clicks count', 'Registrations', 'FTD', 'RD', 'DEPOSITS AMOUNT', 'Payout', 'GGR', 'Расходы в Rs']:\n",
    "    df_manual[elem] = pd.to_numeric(df_manual[elem])"
   ]
  },
  {
   "cell_type": "code",
   "execution_count": 280,
   "metadata": {},
   "outputs": [
    {
     "name": "stderr",
     "output_type": "stream",
     "text": [
      "INFO:googleapiclient.discovery_cache:file_cache is only supported with oauth2client<4.0.0\n",
      "INFO:__main__:Отправка запроса обновления данных: {'valueInputOption': 'USER_ENTERED', 'data': [{'range': 'Анализ менеджеров и испольнителей контрактов!B3:L3', 'values': [[5332, 28, 28, 28, 28, 28, 28, 28, 28, 27338510]]}]}\n",
      "INFO:__main__:Получен результат: {'spreadsheetId': '1X-THzy2TpMsBAxpR6WlIH1V9TrKgr5kH6ajLJ6fELYM', 'totalUpdatedRows': 1, 'totalUpdatedColumns': 10, 'totalUpdatedCells': 10, 'totalUpdatedSheets': 1, 'responses': [{'spreadsheetId': '1X-THzy2TpMsBAxpR6WlIH1V9TrKgr5kH6ajLJ6fELYM', 'updatedRange': \"'Анализ менеджеров и испольнителей контрактов'!B3:K3\", 'updatedRows': 1, 'updatedColumns': 10, 'updatedCells': 10}]}\n"
     ]
    },
    {
     "name": "stdout",
     "output_type": "stream",
     "text": [
      "10 cells updated.\n"
     ]
    }
   ],
   "source": [
    "#создание словаря для итога Total\n",
    "anaitics_total = df_manual[['Кол-во исполнителей', 'Total number of clicks', 'Unique clicks count', 'Registrations', 'FTD', 'RD', 'DEPOSITS AMOUNT', 'Payout', 'GGR', 'Расходы в Rs']]\n",
    "anaitics_total = anaitics_total.sum()\n",
    "\n",
    "anaitics_total_combined = pd.DataFrame([anaitics_total.values], columns=anaitics_total.index)\n",
    "\n",
    "# преобразуем в нужный формат\n",
    "anaitics_total = pd.DataFrame(anaitics_total).transpose()\n",
    "anaitics_total = to_transport(anaitics_total)\n",
    "\n",
    "\n",
    "\n",
    "# Определение ID таблицы и диапазона\n",
    "SAMPLE_SPREADSHEET_ID = '1X-THzy2TpMsBAxpR6WlIH1V9TrKgr5kH6ajLJ6fELYM' \n",
    "SAMPLE_RANGE_NAME = 'Анализ менеджеров и испольнителей контрактов!B3:L3'\n",
    "\n",
    "# Вызов функции update_table() для отправки данных в таблицу\n",
    "update_table(SAMPLE_SPREADSHEET_ID, SAMPLE_RANGE_NAME, anaitics_total)\n",
    "\n",
    "\n",
    "\n",
    "\n",
    "\n",
    "\n",
    "\n",
    "\n"
   ]
  },
  {
   "cell_type": "code",
   "execution_count": 281,
   "metadata": {},
   "outputs": [
    {
     "name": "stderr",
     "output_type": "stream",
     "text": [
      "INFO:googleapiclient.discovery_cache:file_cache is only supported with oauth2client<4.0.0\n"
     ]
    },
    {
     "name": "stderr",
     "output_type": "stream",
     "text": [
      "INFO:__main__:Отправка запроса обновления данных: {'valueInputOption': 'USER_ENTERED', 'data': [{'range': 'Анализ менеджеров и испольнителей контрактов!B6:J6', 'values': [[976375.3571428572, 976375.3571428572, 488187.6785714286, 976375.3571428572, 0.005251312828207052, 1.0, 1.0, 1.0, 0.5]]}]}\n",
      "INFO:__main__:Получен результат: {'spreadsheetId': '1X-THzy2TpMsBAxpR6WlIH1V9TrKgr5kH6ajLJ6fELYM', 'totalUpdatedRows': 1, 'totalUpdatedColumns': 9, 'totalUpdatedCells': 9, 'totalUpdatedSheets': 1, 'responses': [{'spreadsheetId': '1X-THzy2TpMsBAxpR6WlIH1V9TrKgr5kH6ajLJ6fELYM', 'updatedRange': \"'Анализ менеджеров и испольнителей контрактов'!B6:J6\", 'updatedRows': 1, 'updatedColumns': 9, 'updatedCells': 9}]}\n"
     ]
    },
    {
     "name": "stdout",
     "output_type": "stream",
     "text": [
      "9 cells updated.\n"
     ]
    }
   ],
   "source": [
    "metrics_total = calculate_metrics(anaitics_total_combined.reset_index())\n",
    "\n",
    "metrics_total = metrics_total.values()\n",
    "# преобразуем в нужный формат\n",
    "metrics_total = pd.DataFrame(metrics_total).transpose()\n",
    "metrics_total = to_transport(metrics_total)\n",
    "\n",
    "SAMPLE_SPREADSHEET_ID = '1X-THzy2TpMsBAxpR6WlIH1V9TrKgr5kH6ajLJ6fELYM' # Замените на ID вашей таблицы\n",
    "SAMPLE_RANGE_NAME = 'Анализ менеджеров и испольнителей контрактов!B6:J6' # Замените на нужный вам диапазон\n",
    "\n",
    "# Вызов функции update_table() для отправки данных в таблицу\n",
    "update_table(SAMPLE_SPREADSHEET_ID, SAMPLE_RANGE_NAME, metrics_total)"
   ]
  },
  {
   "cell_type": "markdown",
   "metadata": {},
   "source": [
    "Добавление аналитики по агентствам"
   ]
  },
  {
   "cell_type": "code",
   "execution_count": 282,
   "metadata": {},
   "outputs": [
    {
     "name": "stderr",
     "output_type": "stream",
     "text": [
      "INFO:googleapiclient.discovery_cache:file_cache is only supported with oauth2client<4.0.0\n",
      "INFO:__main__:Отправка запроса обновления данных: {'valueInputOption': 'USER_ENTERED', 'data': [{'range': 'Анализ менеджеров и испольнителей контрактов!B11:L11', 'values': [[5328, 8, 8, 8, 8, 8, 8, 8, 8, 9586890]]}]}\n",
      "INFO:__main__:Получен результат: {'spreadsheetId': '1X-THzy2TpMsBAxpR6WlIH1V9TrKgr5kH6ajLJ6fELYM', 'totalUpdatedRows': 1, 'totalUpdatedColumns': 10, 'totalUpdatedCells': 10, 'totalUpdatedSheets': 1, 'responses': [{'spreadsheetId': '1X-THzy2TpMsBAxpR6WlIH1V9TrKgr5kH6ajLJ6fELYM', 'updatedRange': \"'Анализ менеджеров и испольнителей контрактов'!B11:K11\", 'updatedRows': 1, 'updatedColumns': 10, 'updatedCells': 10}]}\n"
     ]
    },
    {
     "name": "stdout",
     "output_type": "stream",
     "text": [
      "10 cells updated.\n"
     ]
    }
   ],
   "source": [
    "#создание словаря для итога Агентств\n",
    "anaitics_agences = analitics_total_data[analitics_total_data['Тип менеджера исполнителя'] == 'Агентства'][['Кол-во исполнителей', 'Total number of clicks', 'Unique clicks count', 'Registrations', 'FTD', 'RD', 'DEPOSITS AMOUNT', 'Payout', 'GGR', 'Расходы в Rs']]\n",
    "anaitics_agences = anaitics_agences.sum()\n",
    "\n",
    "anaitics_agences_combined = pd.DataFrame([anaitics_agences.values], columns=anaitics_agences.index)\n",
    "\n",
    "# преобразуем в нужный формат\n",
    "anaitics_agences = pd.DataFrame(anaitics_agences).transpose()\n",
    "anaitics_agences = to_transport(anaitics_agences)\n",
    "\n",
    "\n",
    "\n",
    "SAMPLE_SPREADSHEET_ID = '1X-THzy2TpMsBAxpR6WlIH1V9TrKgr5kH6ajLJ6fELYM' # Замените на ID вашей таблицы\n",
    "SAMPLE_RANGE_NAME = 'Анализ менеджеров и испольнителей контрактов!B11:L11' # Замените на нужный вам диапазон\n",
    "\n",
    "# Вызов функции update_table() для отправки данных в таблицу\n",
    "update_table(SAMPLE_SPREADSHEET_ID, SAMPLE_RANGE_NAME, anaitics_agences)\n"
   ]
  },
  {
   "cell_type": "code",
   "execution_count": 283,
   "metadata": {},
   "outputs": [
    {
     "name": "stderr",
     "output_type": "stream",
     "text": [
      "INFO:googleapiclient.discovery_cache:file_cache is only supported with oauth2client<4.0.0\n",
      "INFO:__main__:Отправка запроса обновления данных: {'valueInputOption': 'USER_ENTERED', 'data': [{'range': 'Анализ менеджеров и испольнителей контрактов!B14:J14', 'values': [[1198361.25, 1198361.25, 599180.625, 1198361.25, 0.0015015015015015015, 1.0, 1.0, 1.0, 0.5]]}]}\n",
      "INFO:__main__:Получен результат: {'spreadsheetId': '1X-THzy2TpMsBAxpR6WlIH1V9TrKgr5kH6ajLJ6fELYM', 'totalUpdatedRows': 1, 'totalUpdatedColumns': 9, 'totalUpdatedCells': 9, 'totalUpdatedSheets': 1, 'responses': [{'spreadsheetId': '1X-THzy2TpMsBAxpR6WlIH1V9TrKgr5kH6ajLJ6fELYM', 'updatedRange': \"'Анализ менеджеров и испольнителей контрактов'!B14:J14\", 'updatedRows': 1, 'updatedColumns': 9, 'updatedCells': 9}]}\n"
     ]
    },
    {
     "name": "stdout",
     "output_type": "stream",
     "text": [
      "9 cells updated.\n"
     ]
    }
   ],
   "source": [
    "metrics_agences = calculate_metrics(anaitics_agences_combined.reset_index())\n",
    "\n",
    "metrics_agences = metrics_agences.values()\n",
    "# преобразуем в нужный формат\n",
    "metrics_agences = pd.DataFrame(metrics_agences).transpose()\n",
    "metrics_agences = to_transport(metrics_agences)\n",
    "\n",
    "SAMPLE_SPREADSHEET_ID = '1X-THzy2TpMsBAxpR6WlIH1V9TrKgr5kH6ajLJ6fELYM' # Замените на ID вашей таблицы\n",
    "SAMPLE_RANGE_NAME = 'Анализ менеджеров и испольнителей контрактов!B14:J14' # Замените на нужный вам диапазон\n",
    "\n",
    "# Вызов функции update_table() для отправки данных в таблицу\n",
    "update_table(SAMPLE_SPREADSHEET_ID, SAMPLE_RANGE_NAME, metrics_agences)"
   ]
  },
  {
   "cell_type": "markdown",
   "metadata": {},
   "source": [
    "Добавление аналитик по ищейкам"
   ]
  },
  {
   "cell_type": "code",
   "execution_count": 333,
   "metadata": {},
   "outputs": [
    {
     "name": "stderr",
     "output_type": "stream",
     "text": [
      "INFO:googleapiclient.discovery_cache:file_cache is only supported with oauth2client<4.0.0\n",
      "INFO:__main__:Отправка запроса обновления данных: {'valueInputOption': 'USER_ENTERED', 'data': [{'range': 'Анализ менеджеров и испольнителей контрактов!B19:L19', 'values': [[3, 14, 14, 14, 14, 14, 14, 14, 14, 7872861]]}]}\n",
      "INFO:__main__:Получен результат: {'spreadsheetId': '1X-THzy2TpMsBAxpR6WlIH1V9TrKgr5kH6ajLJ6fELYM', 'totalUpdatedRows': 1, 'totalUpdatedColumns': 10, 'totalUpdatedCells': 10, 'totalUpdatedSheets': 1, 'responses': [{'spreadsheetId': '1X-THzy2TpMsBAxpR6WlIH1V9TrKgr5kH6ajLJ6fELYM', 'updatedRange': \"'Анализ менеджеров и испольнителей контрактов'!B19:K19\", 'updatedRows': 1, 'updatedColumns': 10, 'updatedCells': 10}]}\n"
     ]
    },
    {
     "name": "stdout",
     "output_type": "stream",
     "text": [
      "10 cells updated.\n"
     ]
    }
   ],
   "source": [
    "#создание словаря для итога Агентств\n",
    "anaitics_tracker = analitics_total_data[analitics_total_data['Тип менеджера исполнителя'] == 'Блогеры ищеек'][['Кол-во исполнителей', 'Total number of clicks', 'Unique clicks count', 'Registrations', 'FTD', 'RD', 'DEPOSITS AMOUNT', 'Payout', 'GGR', 'Расходы в Rs']]\n",
    "anaitics_tracker = anaitics_tracker.sum()\n",
    "\n",
    "anaitics_tracker_combined = pd.DataFrame([anaitics_tracker.values], columns=anaitics_tracker.index)\n",
    "\n",
    "# преобразуем в нужный формат\n",
    "anaitics_tracker = pd.DataFrame(anaitics_tracker).transpose()\n",
    "anaitics_tracker = to_transport(anaitics_tracker)\n",
    "\n",
    "\n",
    "\n",
    "SAMPLE_SPREADSHEET_ID = '1X-THzy2TpMsBAxpR6WlIH1V9TrKgr5kH6ajLJ6fELYM' # Замените на ID вашей таблицы\n",
    "SAMPLE_RANGE_NAME = 'Анализ менеджеров и испольнителей контрактов!B19:L19' # Замените на нужный вам диапазон\n",
    "\n",
    "# Вызов функции update_table() для отправки данных в таблицу\n",
    "update_table(SAMPLE_SPREADSHEET_ID, SAMPLE_RANGE_NAME, anaitics_tracker)\n"
   ]
  },
  {
   "cell_type": "code",
   "execution_count": 337,
   "metadata": {},
   "outputs": [
    {
     "data": {
      "text/plain": [
       "{'Unique click price': 0    562347.214286\n",
       " dtype: float64,\n",
       " 'Registration price': 0    562347.214286\n",
       " dtype: float64,\n",
       " 'deposit price': 0    281173.607143\n",
       " dtype: float64,\n",
       " 'FTD price': 0    562347.214286\n",
       " dtype: float64,\n",
       " 'Unique clicks per blogger': 0    4.666667\n",
       " dtype: float64,\n",
       " 'Unique clicks/ registration': 0    1.0\n",
       " dtype: float64,\n",
       " 'Unique clicks count/FTD': 0    1.0\n",
       " dtype: float64,\n",
       " 'Registrations/FTD': 0    1.0\n",
       " dtype: float64,\n",
       " 'average deposit': 0    0.5\n",
       " dtype: float64}"
      ]
     },
     "execution_count": 337,
     "metadata": {},
     "output_type": "execute_result"
    }
   ],
   "source": [
    "metrics_tracker = calculate_metrics(anaitics_tracker_combined.reset_index())\n",
    "\n",
    "etrics_tracker = metrics_tracker.values()\n",
    "metrics_tracker"
   ]
  },
  {
   "cell_type": "code",
   "execution_count": 289,
   "metadata": {},
   "outputs": [
    {
     "name": "stderr",
     "output_type": "stream",
     "text": [
      "INFO:googleapiclient.discovery_cache:file_cache is only supported with oauth2client<4.0.0\n",
      "INFO:__main__:Отправка запроса обновления данных: {'valueInputOption': 'USER_ENTERED', 'data': [{'range': 'Анализ менеджеров и испольнителей контрактов!B22:J22', 'values': [[562347.2142857143, 562347.2142857143, 281173.60714285716, 562347.2142857143, 4.666666666666667, 1.0, 1.0, 1.0, 0.5]]}]}\n",
      "INFO:__main__:Получен результат: {'spreadsheetId': '1X-THzy2TpMsBAxpR6WlIH1V9TrKgr5kH6ajLJ6fELYM', 'totalUpdatedRows': 1, 'totalUpdatedColumns': 9, 'totalUpdatedCells': 9, 'totalUpdatedSheets': 1, 'responses': [{'spreadsheetId': '1X-THzy2TpMsBAxpR6WlIH1V9TrKgr5kH6ajLJ6fELYM', 'updatedRange': \"'Анализ менеджеров и испольнителей контрактов'!B22:J22\", 'updatedRows': 1, 'updatedColumns': 9, 'updatedCells': 9}]}\n"
     ]
    },
    {
     "name": "stdout",
     "output_type": "stream",
     "text": [
      "9 cells updated.\n"
     ]
    }
   ],
   "source": [
    "metrics_tracker = calculate_metrics(anaitics_tracker_combined.reset_index())\n",
    "\n",
    "metrics_tracker = metrics_tracker.values()\n",
    "# преобразуем в нужный формат\n",
    "metrics_tracker = pd.DataFrame(metrics_tracker).transpose()\n",
    "metrics_tracker = to_transport(metrics_tracker)\n",
    "\n",
    "SAMPLE_SPREADSHEET_ID = '1X-THzy2TpMsBAxpR6WlIH1V9TrKgr5kH6ajLJ6fELYM' # Замените на ID вашей таблицы\n",
    "SAMPLE_RANGE_NAME = 'Анализ менеджеров и испольнителей контрактов!B22:J22' # Замените на нужный вам диапазон\n",
    "\n",
    "# Вызов функции update_table() для отправки данных в таблицу\n",
    "update_table(SAMPLE_SPREADSHEET_ID, SAMPLE_RANGE_NAME, metrics_tracker)\n",
    "\n"
   ]
  },
  {
   "cell_type": "markdown",
   "metadata": {},
   "source": [
    "### Заполним в листе 'Анализ менеджеров и испольнителей контрактов' cтатистика по конверсии агентств"
   ]
  },
  {
   "cell_type": "markdown",
   "metadata": {},
   "source": [
    "Удалим все ненужные столбцы"
   ]
  },
  {
   "cell_type": "code",
   "execution_count": 417,
   "metadata": {},
   "outputs": [
    {
     "data": {
      "text/html": [
       "<div>\n",
       "<style scoped>\n",
       "    .dataframe tbody tr th:only-of-type {\n",
       "        vertical-align: middle;\n",
       "    }\n",
       "\n",
       "    .dataframe tbody tr th {\n",
       "        vertical-align: top;\n",
       "    }\n",
       "\n",
       "    .dataframe thead th {\n",
       "        text-align: right;\n",
       "    }\n",
       "</style>\n",
       "<table border=\"1\" class=\"dataframe\">\n",
       "  <thead>\n",
       "    <tr style=\"text-align: right;\">\n",
       "      <th></th>\n",
       "      <th>тг id менеджера исполнителя</th>\n",
       "      <th>Кол-во исполнителей</th>\n",
       "      <th>Расходы в Rs</th>\n",
       "      <th>Unique clicks count</th>\n",
       "      <th>Registrations</th>\n",
       "      <th>FTD</th>\n",
       "      <th>RD</th>\n",
       "      <th>DEPOSITS AMOUNT</th>\n",
       "      <th>Payout</th>\n",
       "      <th>GGR</th>\n",
       "    </tr>\n",
       "  </thead>\n",
       "  <tbody>\n",
       "    <tr>\n",
       "      <th>0</th>\n",
       "      <td>77777777888888888877777777</td>\n",
       "      <td>5328</td>\n",
       "      <td>9586890</td>\n",
       "      <td>8</td>\n",
       "      <td>8</td>\n",
       "      <td>8</td>\n",
       "      <td>8</td>\n",
       "      <td>8</td>\n",
       "      <td>8</td>\n",
       "      <td>8</td>\n",
       "    </tr>\n",
       "  </tbody>\n",
       "</table>\n",
       "</div>"
      ],
      "text/plain": [
       "  тг id менеджера исполнителя  Кол-во исполнителей  Расходы в Rs  \\\n",
       "0  77777777888888888877777777                 5328       9586890   \n",
       "\n",
       "   Unique clicks count  Registrations  FTD  RD  DEPOSITS AMOUNT  Payout  GGR  \n",
       "0                    8              8    8   8                8       8    8  "
      ]
     },
     "execution_count": 417,
     "metadata": {},
     "output_type": "execute_result"
    }
   ],
   "source": [
    "stat_agences = df_manual.copy()\n",
    "stat_agences.drop('Ссылка на аккаунт исполнителя', axis = 1, inplace =True)\n",
    "stat_agences.drop('Дата выхода интеграции', axis = 1, inplace =True)\n",
    "stat_agences.drop('тип контракта', axis = 1, inplace =True)\n",
    "stat_agences.drop('Sub ID 2', axis = 1, inplace =True)\n",
    "stat_agences.drop('трек ссылка', axis = 1, inplace =True)\n",
    "stat_agences = stat_agences[stat_agences['Тип менеджера исполнителя'] == 'Агентства']\n",
    "stat_agences = stat_agences.groupby('Тип менеджера исполнителя').sum().reset_index()\n",
    "stat_agences.drop('Тип менеджера исполнителя', axis = 1, inplace =True)\n",
    "stat_agences.drop('Total number of clicks', axis = 1, inplace =True)\n",
    "stat_agences\n"
   ]
  },
  {
   "cell_type": "markdown",
   "metadata": {},
   "source": [
    "Создадим метрики"
   ]
  },
  {
   "cell_type": "code",
   "execution_count": 370,
   "metadata": {},
   "outputs": [
    {
     "data": {
      "text/html": [
       "<div>\n",
       "<style scoped>\n",
       "    .dataframe tbody tr th:only-of-type {\n",
       "        vertical-align: middle;\n",
       "    }\n",
       "\n",
       "    .dataframe tbody tr th {\n",
       "        vertical-align: top;\n",
       "    }\n",
       "\n",
       "    .dataframe thead th {\n",
       "        text-align: right;\n",
       "    }\n",
       "</style>\n",
       "<table border=\"1\" class=\"dataframe\">\n",
       "  <thead>\n",
       "    <tr style=\"text-align: right;\">\n",
       "      <th></th>\n",
       "      <th>тг id менеджера исполнителя</th>\n",
       "      <th>Кол-во исполнителей</th>\n",
       "      <th>Расходы в Rs</th>\n",
       "      <th>Unique clicks count</th>\n",
       "      <th>Registrations</th>\n",
       "      <th>FTD</th>\n",
       "      <th>RD</th>\n",
       "      <th>DEPOSITS AMOUNT</th>\n",
       "      <th>Payout</th>\n",
       "      <th>GGR</th>\n",
       "      <th>Unique click price</th>\n",
       "      <th>Registration price</th>\n",
       "      <th>deposit price</th>\n",
       "      <th>FTD price</th>\n",
       "      <th>Unique clicks per blogger</th>\n",
       "      <th>Unique clicks/ registration</th>\n",
       "      <th>Unique clicks count/FTD</th>\n",
       "      <th>Registrations/FTD</th>\n",
       "      <th>average deposit</th>\n",
       "    </tr>\n",
       "  </thead>\n",
       "  <tbody>\n",
       "    <tr>\n",
       "      <th>1</th>\n",
       "      <td>77777777</td>\n",
       "      <td>1672</td>\n",
       "      <td>1800000</td>\n",
       "      <td>3</td>\n",
       "      <td>3</td>\n",
       "      <td>3</td>\n",
       "      <td>3</td>\n",
       "      <td>3</td>\n",
       "      <td>3</td>\n",
       "      <td>3</td>\n",
       "      <td>600000.0</td>\n",
       "      <td>600000.0</td>\n",
       "      <td>300000.00</td>\n",
       "      <td>600000.0</td>\n",
       "      <td>0.001794</td>\n",
       "      <td>1.0</td>\n",
       "      <td>1.0</td>\n",
       "      <td>1.0</td>\n",
       "      <td>0.5</td>\n",
       "    </tr>\n",
       "    <tr>\n",
       "      <th>2</th>\n",
       "      <td>8888888888</td>\n",
       "      <td>1089</td>\n",
       "      <td>786890</td>\n",
       "      <td>4</td>\n",
       "      <td>4</td>\n",
       "      <td>4</td>\n",
       "      <td>4</td>\n",
       "      <td>4</td>\n",
       "      <td>4</td>\n",
       "      <td>4</td>\n",
       "      <td>196722.5</td>\n",
       "      <td>196722.5</td>\n",
       "      <td>98361.25</td>\n",
       "      <td>196722.5</td>\n",
       "      <td>0.003673</td>\n",
       "      <td>1.0</td>\n",
       "      <td>1.0</td>\n",
       "      <td>1.0</td>\n",
       "      <td>0.5</td>\n",
       "    </tr>\n",
       "    <tr>\n",
       "      <th>6</th>\n",
       "      <td>77777777</td>\n",
       "      <td>2567</td>\n",
       "      <td>7000000</td>\n",
       "      <td>1</td>\n",
       "      <td>1</td>\n",
       "      <td>1</td>\n",
       "      <td>1</td>\n",
       "      <td>1</td>\n",
       "      <td>1</td>\n",
       "      <td>1</td>\n",
       "      <td>7000000.0</td>\n",
       "      <td>7000000.0</td>\n",
       "      <td>3500000.00</td>\n",
       "      <td>7000000.0</td>\n",
       "      <td>0.000390</td>\n",
       "      <td>1.0</td>\n",
       "      <td>1.0</td>\n",
       "      <td>1.0</td>\n",
       "      <td>0.5</td>\n",
       "    </tr>\n",
       "  </tbody>\n",
       "</table>\n",
       "</div>"
      ],
      "text/plain": [
       "  тг id менеджера исполнителя  Кол-во исполнителей  Расходы в Rs  \\\n",
       "1                    77777777                 1672       1800000   \n",
       "2                  8888888888                 1089        786890   \n",
       "6                    77777777                 2567       7000000   \n",
       "\n",
       "   Unique clicks count  Registrations  FTD  RD  DEPOSITS AMOUNT  Payout  GGR  \\\n",
       "1                    3              3    3   3                3       3    3   \n",
       "2                    4              4    4   4                4       4    4   \n",
       "6                    1              1    1   1                1       1    1   \n",
       "\n",
       "   Unique click price  Registration price  deposit price  FTD price  \\\n",
       "1            600000.0            600000.0      300000.00   600000.0   \n",
       "2            196722.5            196722.5       98361.25   196722.5   \n",
       "6           7000000.0           7000000.0     3500000.00  7000000.0   \n",
       "\n",
       "   Unique clicks per blogger  Unique clicks/ registration  \\\n",
       "1                   0.001794                          1.0   \n",
       "2                   0.003673                          1.0   \n",
       "6                   0.000390                          1.0   \n",
       "\n",
       "   Unique clicks count/FTD  Registrations/FTD  average deposit  \n",
       "1                      1.0                1.0              0.5  \n",
       "2                      1.0                1.0              0.5  \n",
       "6                      1.0                1.0              0.5  "
      ]
     },
     "execution_count": 370,
     "metadata": {},
     "output_type": "execute_result"
    }
   ],
   "source": [
    "stat_agences['Unique click price'] = stat_agences['Расходы в Rs'] / stat_agences['Unique clicks count']\n",
    "stat_agences['Registration price'] = stat_agences['Расходы в Rs'] / stat_agences['Registrations']\n",
    "stat_agences['deposit price'] = stat_agences['Расходы в Rs'] / (stat_agences['FTD'] + stat_agences['RD'])\n",
    "stat_agences['FTD price'] = stat_agences['Расходы в Rs'] / stat_agences['FTD']\n",
    "stat_agences['Unique clicks per blogger'] = stat_agences['Unique clicks count'] / stat_agences['Кол-во исполнителей']\n",
    "stat_agences['Unique clicks/ registration'] = stat_agences['Unique clicks count'] / stat_agences['Registrations']\n",
    "stat_agences['Unique clicks count/FTD'] = stat_agences['Unique clicks count'] / stat_agences['FTD']\n",
    "stat_agences['Registrations/FTD'] = stat_agences['Registrations'] / stat_agences['FTD']\n",
    "stat_agences['average deposit'] = stat_agences['DEPOSITS AMOUNT'] / (stat_agences['FTD'] + stat_agences['RD'])\n",
    "stat_agences\n"
   ]
  },
  {
   "cell_type": "markdown",
   "metadata": {},
   "source": [
    "Добавим в таблицу (что то функция нормально не работала по формирования данных к экспорту в файл. Перепишу функцию)\n",
    "\n",
    "__Сюда бы еще добавить полную очистку колонок этой части__"
   ]
  },
  {
   "cell_type": "code",
   "execution_count": 376,
   "metadata": {},
   "outputs": [],
   "source": [
    "def to_transport(df_manual):\n",
    "    # Транспонирование DataFrame и преобразование в словарь\n",
    "    df_manual_transposed = df_manual.transpose()\n",
    "    aggregate_tables = df_manual_transposed.to_dict()\n",
    "\n",
    "    # Преобразование словаря в список списков\n",
    "    aggregate_tables_result = []\n",
    "    for key in aggregate_tables.keys():\n",
    "        aggregate_row = []\n",
    "        for sub_key in aggregate_tables[key]:\n",
    "            aggregate_row.append(aggregate_tables[key][sub_key])\n",
    "        aggregate_tables_result.append(aggregate_row)\n",
    "    return aggregate_tables_result\n"
   ]
  },
  {
   "cell_type": "code",
   "execution_count": 377,
   "metadata": {},
   "outputs": [
    {
     "name": "stderr",
     "output_type": "stream",
     "text": [
      "INFO:googleapiclient.discovery_cache:file_cache is only supported with oauth2client<4.0.0\n",
      "INFO:__main__:Отправка запроса обновления данных: {'valueInputOption': 'USER_ENTERED', 'data': [{'range': 'Анализ менеджеров и испольнителей контрактов!O3', 'values': [['77777777', 1672, 1800000, 3, 3, 3, 3, 3, 3, 3, 600000.0, 600000.0, 300000.0, 600000.0, 0.0017942583732057417, 1.0, 1.0, 1.0, 0.5], ['8888888888', 1089, 786890, 4, 4, 4, 4, 4, 4, 4, 196722.5, 196722.5, 98361.25, 196722.5, 0.0036730945821854912, 1.0, 1.0, 1.0, 0.5], ['77777777', 2567, 7000000, 1, 1, 1, 1, 1, 1, 1, 7000000.0, 7000000.0, 3500000.0, 7000000.0, 0.00038955979742890534, 1.0, 1.0, 1.0, 0.5]]}]}\n",
      "INFO:__main__:Получен результат: {'spreadsheetId': '1X-THzy2TpMsBAxpR6WlIH1V9TrKgr5kH6ajLJ6fELYM', 'totalUpdatedRows': 3, 'totalUpdatedColumns': 19, 'totalUpdatedCells': 57, 'totalUpdatedSheets': 1, 'responses': [{'spreadsheetId': '1X-THzy2TpMsBAxpR6WlIH1V9TrKgr5kH6ajLJ6fELYM', 'updatedRange': \"'Анализ менеджеров и испольнителей контрактов'!O3:AG5\", 'updatedRows': 3, 'updatedColumns': 19, 'updatedCells': 57}]}\n"
     ]
    },
    {
     "name": "stdout",
     "output_type": "stream",
     "text": [
      "57 cells updated.\n"
     ]
    }
   ],
   "source": [
    "stat_agences = pd.DataFrame(stat_agences).transpose()\n",
    "\n",
    "stat_agences = to_transport(stat_agences)\n",
    "\n",
    "SAMPLE_SPREADSHEET_ID = '1X-THzy2TpMsBAxpR6WlIH1V9TrKgr5kH6ajLJ6fELYM'\n",
    "SAMPLE_RANGE_NAME = 'Анализ менеджеров и испольнителей контрактов!O3'\n",
    "\n",
    "# Вызываем функцию update_table() для отправки данных в таблицу\n",
    "update_table(SAMPLE_SPREADSHEET_ID, SAMPLE_RANGE_NAME, stat_agences)\n"
   ]
  },
  {
   "cell_type": "markdown",
   "metadata": {},
   "source": [
    "### Статистика по конверсии блогеров-ищеек"
   ]
  },
  {
   "cell_type": "markdown",
   "metadata": {},
   "source": [
    "Удалим все ненужные столбцы"
   ]
  },
  {
   "cell_type": "code",
   "execution_count": 406,
   "metadata": {},
   "outputs": [
    {
     "data": {
      "text/html": [
       "<div>\n",
       "<style scoped>\n",
       "    .dataframe tbody tr th:only-of-type {\n",
       "        vertical-align: middle;\n",
       "    }\n",
       "\n",
       "    .dataframe tbody tr th {\n",
       "        vertical-align: top;\n",
       "    }\n",
       "\n",
       "    .dataframe thead th {\n",
       "        text-align: right;\n",
       "    }\n",
       "</style>\n",
       "<table border=\"1\" class=\"dataframe\">\n",
       "  <thead>\n",
       "    <tr style=\"text-align: right;\">\n",
       "      <th></th>\n",
       "      <th>Ссылка на аккаунт исполнителя</th>\n",
       "      <th>тг id менеджера исполнителя</th>\n",
       "      <th>Расходы в Rs</th>\n",
       "      <th>Unique clicks count</th>\n",
       "      <th>Registrations</th>\n",
       "      <th>FTD</th>\n",
       "      <th>RD</th>\n",
       "      <th>DEPOSITS AMOUNT</th>\n",
       "      <th>Payout</th>\n",
       "      <th>GGR</th>\n",
       "    </tr>\n",
       "  </thead>\n",
       "  <tbody>\n",
       "    <tr>\n",
       "      <th>0</th>\n",
       "      <td>https://www.instagram.com/zakhmi.writess_?igsh...</td>\n",
       "      <td>999999999999988888888811111111111111</td>\n",
       "      <td>7872861</td>\n",
       "      <td>14</td>\n",
       "      <td>14</td>\n",
       "      <td>14</td>\n",
       "      <td>14</td>\n",
       "      <td>14</td>\n",
       "      <td>14</td>\n",
       "      <td>14</td>\n",
       "    </tr>\n",
       "  </tbody>\n",
       "</table>\n",
       "</div>"
      ],
      "text/plain": [
       "                       Ссылка на аккаунт исполнителя  \\\n",
       "0  https://www.instagram.com/zakhmi.writess_?igsh...   \n",
       "\n",
       "            тг id менеджера исполнителя  Расходы в Rs  Unique clicks count  \\\n",
       "0  999999999999988888888811111111111111       7872861                   14   \n",
       "\n",
       "   Registrations  FTD  RD  DEPOSITS AMOUNT  Payout  GGR  \n",
       "0             14   14  14               14      14   14  "
      ]
     },
     "execution_count": 406,
     "metadata": {},
     "output_type": "execute_result"
    }
   ],
   "source": [
    "stat_tracker = df_manual.copy()\n",
    "stat_tracker.drop('Дата выхода интеграции', axis = 1, inplace =True)\n",
    "stat_tracker.drop('Кол-во исполнителей', axis = 1, inplace =True)\n",
    "stat_tracker.drop('тип контракта', axis = 1, inplace =True)\n",
    "stat_tracker.drop('Sub ID 2', axis = 1, inplace =True)\n",
    "stat_tracker.drop('трек ссылка', axis = 1, inplace =True)\n",
    "stat_tracker = stat_tracker[stat_tracker['Тип менеджера исполнителя'] == 'Блогеры ищеек']\n",
    "stat_tracker = stat_tracker.groupby('Тип менеджера исполнителя').sum().reset_index()\n",
    "stat_tracker.drop('Тип менеджера исполнителя', axis = 1, inplace =True)\n",
    "stat_tracker.drop('Total number of clicks', axis = 1, inplace =True)\n",
    "stat_tracker"
   ]
  },
  {
   "cell_type": "code",
   "execution_count": 391,
   "metadata": {},
   "outputs": [
    {
     "data": {
      "text/html": [
       "<div>\n",
       "<style scoped>\n",
       "    .dataframe tbody tr th:only-of-type {\n",
       "        vertical-align: middle;\n",
       "    }\n",
       "\n",
       "    .dataframe tbody tr th {\n",
       "        vertical-align: top;\n",
       "    }\n",
       "\n",
       "    .dataframe thead th {\n",
       "        text-align: right;\n",
       "    }\n",
       "</style>\n",
       "<table border=\"1\" class=\"dataframe\">\n",
       "  <thead>\n",
       "    <tr style=\"text-align: right;\">\n",
       "      <th></th>\n",
       "      <th>Ссылка на аккаунт исполнителя</th>\n",
       "      <th>тг id менеджера исполнителя</th>\n",
       "      <th>Расходы в Rs</th>\n",
       "      <th>Unique clicks count</th>\n",
       "      <th>Registrations</th>\n",
       "      <th>FTD</th>\n",
       "      <th>RD</th>\n",
       "      <th>DEPOSITS AMOUNT</th>\n",
       "      <th>Payout</th>\n",
       "      <th>GGR</th>\n",
       "      <th>Unique click price</th>\n",
       "      <th>Registration price</th>\n",
       "      <th>deposit price</th>\n",
       "      <th>FTD price</th>\n",
       "      <th>Unique clicks/ registration</th>\n",
       "      <th>Unique clicks count/FTD</th>\n",
       "      <th>Registrations/FTD</th>\n",
       "      <th>average deposit</th>\n",
       "    </tr>\n",
       "  </thead>\n",
       "  <tbody>\n",
       "    <tr>\n",
       "      <th>0</th>\n",
       "      <td>https://www.instagram.com/zakhmi.writess_?igsh...</td>\n",
       "      <td>999999999999</td>\n",
       "      <td>7864287</td>\n",
       "      <td>5</td>\n",
       "      <td>5</td>\n",
       "      <td>5</td>\n",
       "      <td>5</td>\n",
       "      <td>5</td>\n",
       "      <td>5</td>\n",
       "      <td>5</td>\n",
       "      <td>1.572857e+06</td>\n",
       "      <td>1.572857e+06</td>\n",
       "      <td>786428.700000</td>\n",
       "      <td>1.572857e+06</td>\n",
       "      <td>1.0</td>\n",
       "      <td>1.0</td>\n",
       "      <td>1.0</td>\n",
       "      <td>0.5</td>\n",
       "    </tr>\n",
       "    <tr>\n",
       "      <th>4</th>\n",
       "      <td>https://www.instagram.com/pahadi_vlogger22?igs...</td>\n",
       "      <td>9888888888</td>\n",
       "      <td>4287</td>\n",
       "      <td>2</td>\n",
       "      <td>2</td>\n",
       "      <td>2</td>\n",
       "      <td>2</td>\n",
       "      <td>2</td>\n",
       "      <td>2</td>\n",
       "      <td>2</td>\n",
       "      <td>2.143500e+03</td>\n",
       "      <td>2.143500e+03</td>\n",
       "      <td>1071.750000</td>\n",
       "      <td>2.143500e+03</td>\n",
       "      <td>1.0</td>\n",
       "      <td>1.0</td>\n",
       "      <td>1.0</td>\n",
       "      <td>0.5</td>\n",
       "    </tr>\n",
       "    <tr>\n",
       "      <th>5</th>\n",
       "      <td>https://www.instagram.com/pahadi_vlogger22?igs...</td>\n",
       "      <td>11111111111111</td>\n",
       "      <td>4287</td>\n",
       "      <td>7</td>\n",
       "      <td>7</td>\n",
       "      <td>7</td>\n",
       "      <td>7</td>\n",
       "      <td>7</td>\n",
       "      <td>7</td>\n",
       "      <td>7</td>\n",
       "      <td>6.124286e+02</td>\n",
       "      <td>6.124286e+02</td>\n",
       "      <td>306.214286</td>\n",
       "      <td>6.124286e+02</td>\n",
       "      <td>1.0</td>\n",
       "      <td>1.0</td>\n",
       "      <td>1.0</td>\n",
       "      <td>0.5</td>\n",
       "    </tr>\n",
       "  </tbody>\n",
       "</table>\n",
       "</div>"
      ],
      "text/plain": [
       "                       Ссылка на аккаунт исполнителя  \\\n",
       "0  https://www.instagram.com/zakhmi.writess_?igsh...   \n",
       "4  https://www.instagram.com/pahadi_vlogger22?igs...   \n",
       "5  https://www.instagram.com/pahadi_vlogger22?igs...   \n",
       "\n",
       "  тг id менеджера исполнителя  Расходы в Rs  Unique clicks count  \\\n",
       "0                999999999999       7864287                    5   \n",
       "4                  9888888888          4287                    2   \n",
       "5              11111111111111          4287                    7   \n",
       "\n",
       "   Registrations  FTD  RD  DEPOSITS AMOUNT  Payout  GGR  Unique click price  \\\n",
       "0              5    5   5                5       5    5        1.572857e+06   \n",
       "4              2    2   2                2       2    2        2.143500e+03   \n",
       "5              7    7   7                7       7    7        6.124286e+02   \n",
       "\n",
       "   Registration price  deposit price     FTD price  \\\n",
       "0        1.572857e+06  786428.700000  1.572857e+06   \n",
       "4        2.143500e+03    1071.750000  2.143500e+03   \n",
       "5        6.124286e+02     306.214286  6.124286e+02   \n",
       "\n",
       "   Unique clicks/ registration  Unique clicks count/FTD  Registrations/FTD  \\\n",
       "0                          1.0                      1.0                1.0   \n",
       "4                          1.0                      1.0                1.0   \n",
       "5                          1.0                      1.0                1.0   \n",
       "\n",
       "   average deposit  \n",
       "0              0.5  \n",
       "4              0.5  \n",
       "5              0.5  "
      ]
     },
     "execution_count": 391,
     "metadata": {},
     "output_type": "execute_result"
    }
   ],
   "source": [
    "\n",
    "stat_tracker['Unique click price'] = stat_tracker['Расходы в Rs'] / stat_tracker['Unique clicks count']\n",
    "stat_tracker['Registration price'] = stat_tracker['Расходы в Rs'] / stat_tracker['Registrations']\n",
    "stat_tracker['deposit price'] = stat_tracker['Расходы в Rs'] / (stat_tracker['FTD'] + stat_tracker['RD'])\n",
    "stat_tracker['FTD price'] = stat_tracker['Расходы в Rs'] / stat_tracker['FTD']\n",
    "stat_tracker['Unique clicks/ registration'] = stat_tracker['Unique clicks count'] / stat_tracker['Registrations']\n",
    "stat_tracker['Unique clicks count/FTD'] = stat_tracker['Unique clicks count'] / stat_tracker['FTD']\n",
    "stat_tracker['Registrations/FTD'] = stat_tracker['Registrations'] / stat_tracker['FTD']\n",
    "stat_tracker['average deposit'] = stat_tracker['DEPOSITS AMOUNT'] / (stat_tracker['FTD'] + stat_tracker['RD'])\n",
    "stat_tracker"
   ]
  },
  {
   "cell_type": "markdown",
   "metadata": {},
   "source": [
    "Тут тоже почему то если не прописать заново функцию, то не работает нормально, но так как это не стоит труда, то пропишем"
   ]
  },
  {
   "cell_type": "code",
   "execution_count": 393,
   "metadata": {},
   "outputs": [],
   "source": [
    "def to_transport(df_manual):\n",
    "    # Транспонирование DataFrame и преобразование в словарь\n",
    "    df_manual_transposed = df_manual.transpose()\n",
    "    aggregate_tables = df_manual_transposed.to_dict()\n",
    "\n",
    "    # Преобразование словаря в список списков\n",
    "    aggregate_tables_result = []\n",
    "    for key in aggregate_tables.keys():\n",
    "        aggregate_row = []\n",
    "        for sub_key in aggregate_tables[key]:\n",
    "            aggregate_row.append(aggregate_tables[key][sub_key])\n",
    "        aggregate_tables_result.append(aggregate_row)\n",
    "    return aggregate_tables_result"
   ]
  },
  {
   "cell_type": "code",
   "execution_count": 394,
   "metadata": {},
   "outputs": [
    {
     "name": "stderr",
     "output_type": "stream",
     "text": [
      "INFO:googleapiclient.discovery_cache:file_cache is only supported with oauth2client<4.0.0\n",
      "INFO:__main__:Отправка запроса обновления данных: {'valueInputOption': 'USER_ENTERED', 'data': [{'range': 'Анализ менеджеров и испольнителей контрактов!AJ3', 'values': [['https://www.instagram.com/zakhmi.writess_?igsh=dDlzdTY4aHgzMHU3', '999999999999', 7864287, 5, 5, 5, 5, 5, 5, 5, 1572857.4, 1572857.4, 786428.7, 1572857.4, 1.0, 1.0, 1.0, 0.5], ['https://www.instagram.com/pahadi_vlogger22?igsh=cGx2cjNreXVuZ3Vs', '9888888888', 4287, 2, 2, 2, 2, 2, 2, 2, 2143.5, 2143.5, 1071.75, 2143.5, 1.0, 1.0, 1.0, 0.5], ['https://www.instagram.com/pahadi_vlogger22?igsh=cGx2cjNreXVuZ3Vs', '11111111111111', 4287, 7, 7, 7, 7, 7, 7, 7, 612.4285714285714, 612.4285714285714, 306.2142857142857, 612.4285714285714, 1.0, 1.0, 1.0, 0.5]]}]}\n",
      "INFO:__main__:Получен результат: {'spreadsheetId': '1X-THzy2TpMsBAxpR6WlIH1V9TrKgr5kH6ajLJ6fELYM', 'totalUpdatedRows': 3, 'totalUpdatedColumns': 18, 'totalUpdatedCells': 54, 'totalUpdatedSheets': 1, 'responses': [{'spreadsheetId': '1X-THzy2TpMsBAxpR6WlIH1V9TrKgr5kH6ajLJ6fELYM', 'updatedRange': \"'Анализ менеджеров и испольнителей контрактов'!AJ3:BA5\", 'updatedRows': 3, 'updatedColumns': 18, 'updatedCells': 54}]}\n"
     ]
    },
    {
     "name": "stdout",
     "output_type": "stream",
     "text": [
      "54 cells updated.\n"
     ]
    }
   ],
   "source": [
    "stat_tracker = pd.DataFrame(stat_tracker).transpose()\n",
    "stat_tracker = to_transport(stat_tracker)\n",
    "\n",
    "SAMPLE_SPREADSHEET_ID = '1X-THzy2TpMsBAxpR6WlIH1V9TrKgr5kH6ajLJ6fELYM'\n",
    "SAMPLE_RANGE_NAME = 'Анализ менеджеров и испольнителей контрактов!AJ3'\n",
    "\n",
    "# Вызываем функцию update_table() для отправки данных в таблицу\n",
    "update_table(SAMPLE_SPREADSHEET_ID, SAMPLE_RANGE_NAME, stat_tracker)"
   ]
  },
  {
   "cell_type": "markdown",
   "metadata": {},
   "source": [
    "### Статистика по конверсии контрактов"
   ]
  },
  {
   "cell_type": "markdown",
   "metadata": {},
   "source": [
    "Удалим все ненужные столбцы"
   ]
  },
  {
   "cell_type": "code",
   "execution_count": 427,
   "metadata": {},
   "outputs": [
    {
     "data": {
      "text/html": [
       "<div>\n",
       "<style scoped>\n",
       "    .dataframe tbody tr th:only-of-type {\n",
       "        vertical-align: middle;\n",
       "    }\n",
       "\n",
       "    .dataframe tbody tr th {\n",
       "        vertical-align: top;\n",
       "    }\n",
       "\n",
       "    .dataframe thead th {\n",
       "        text-align: right;\n",
       "    }\n",
       "</style>\n",
       "<table border=\"1\" class=\"dataframe\">\n",
       "  <thead>\n",
       "    <tr style=\"text-align: right;\">\n",
       "      <th></th>\n",
       "      <th>тип контракта</th>\n",
       "      <th>Кол-во исполнителей</th>\n",
       "      <th>Расходы в Rs</th>\n",
       "      <th>Unique clicks count</th>\n",
       "      <th>Registrations</th>\n",
       "      <th>FTD</th>\n",
       "      <th>RD</th>\n",
       "      <th>DEPOSITS AMOUNT</th>\n",
       "      <th>Payout</th>\n",
       "      <th>GGR</th>\n",
       "    </tr>\n",
       "  </thead>\n",
       "  <tbody>\n",
       "    <tr>\n",
       "      <th>0</th>\n",
       "      <td>Контракт №1</td>\n",
       "      <td>2763</td>\n",
       "      <td>20329936</td>\n",
       "      <td>18</td>\n",
       "      <td>18</td>\n",
       "      <td>18</td>\n",
       "      <td>18</td>\n",
       "      <td>18</td>\n",
       "      <td>18</td>\n",
       "      <td>18</td>\n",
       "    </tr>\n",
       "    <tr>\n",
       "      <th>1</th>\n",
       "      <td>Контракт №2</td>\n",
       "      <td>2569</td>\n",
       "      <td>7008574</td>\n",
       "      <td>10</td>\n",
       "      <td>10</td>\n",
       "      <td>10</td>\n",
       "      <td>10</td>\n",
       "      <td>10</td>\n",
       "      <td>10</td>\n",
       "      <td>10</td>\n",
       "    </tr>\n",
       "  </tbody>\n",
       "</table>\n",
       "</div>"
      ],
      "text/plain": [
       "  тип контракта  Кол-во исполнителей  Расходы в Rs  Unique clicks count  \\\n",
       "0   Контракт №1                 2763      20329936                   18   \n",
       "1   Контракт №2                 2569       7008574                   10   \n",
       "\n",
       "   Registrations  FTD  RD  DEPOSITS AMOUNT  Payout  GGR  \n",
       "0             18   18  18               18      18   18  \n",
       "1             10   10  10               10      10   10  "
      ]
     },
     "execution_count": 427,
     "metadata": {},
     "output_type": "execute_result"
    }
   ],
   "source": [
    "stat_tracker = df_manual.copy()\n",
    "stat_tracker.drop('Дата выхода интеграции', axis = 1, inplace =True)\n",
    "stat_tracker.drop('Sub ID 2', axis = 1, inplace =True)\n",
    "stat_tracker.drop('трек ссылка', axis = 1, inplace =True)\n",
    "stat_tracker.drop('Total number of clicks', axis = 1, inplace =True)\n",
    "stat_tracker.drop('Ссылка на аккаунт исполнителя', axis = 1, inplace =True)\n",
    "stat_tracker.drop('Тип менеджера исполнителя', axis = 1, inplace =True)\n",
    "stat_tracker.drop('тг id менеджера исполнителя', axis = 1, inplace =True)\n",
    "stat_tracker = stat_tracker.groupby('тип контракта').sum().reset_index()\n",
    "stat_tracker"
   ]
  },
  {
   "cell_type": "markdown",
   "metadata": {},
   "source": [
    "Введем метрики"
   ]
  },
  {
   "cell_type": "code",
   "execution_count": 429,
   "metadata": {},
   "outputs": [
    {
     "data": {
      "text/html": [
       "<div>\n",
       "<style scoped>\n",
       "    .dataframe tbody tr th:only-of-type {\n",
       "        vertical-align: middle;\n",
       "    }\n",
       "\n",
       "    .dataframe tbody tr th {\n",
       "        vertical-align: top;\n",
       "    }\n",
       "\n",
       "    .dataframe thead th {\n",
       "        text-align: right;\n",
       "    }\n",
       "</style>\n",
       "<table border=\"1\" class=\"dataframe\">\n",
       "  <thead>\n",
       "    <tr style=\"text-align: right;\">\n",
       "      <th></th>\n",
       "      <th>тип контракта</th>\n",
       "      <th>Кол-во исполнителей</th>\n",
       "      <th>Расходы в Rs</th>\n",
       "      <th>Unique clicks count</th>\n",
       "      <th>Registrations</th>\n",
       "      <th>FTD</th>\n",
       "      <th>RD</th>\n",
       "      <th>DEPOSITS AMOUNT</th>\n",
       "      <th>Payout</th>\n",
       "      <th>GGR</th>\n",
       "      <th>Unique click price</th>\n",
       "      <th>Registration price</th>\n",
       "      <th>deposit price</th>\n",
       "      <th>FTD price</th>\n",
       "      <th>Unique clicks/ registration</th>\n",
       "      <th>Unique clicks count/FTD</th>\n",
       "      <th>Registrations/FTD</th>\n",
       "      <th>average deposit</th>\n",
       "      <th>Unique clicks per blogger</th>\n",
       "    </tr>\n",
       "  </thead>\n",
       "  <tbody>\n",
       "    <tr>\n",
       "      <th>0</th>\n",
       "      <td>Контракт №1</td>\n",
       "      <td>2763</td>\n",
       "      <td>20329936</td>\n",
       "      <td>18</td>\n",
       "      <td>18</td>\n",
       "      <td>18</td>\n",
       "      <td>18</td>\n",
       "      <td>18</td>\n",
       "      <td>18</td>\n",
       "      <td>18</td>\n",
       "      <td>1.129441e+06</td>\n",
       "      <td>1.129441e+06</td>\n",
       "      <td>564720.444444</td>\n",
       "      <td>1.129441e+06</td>\n",
       "      <td>1.0</td>\n",
       "      <td>1.0</td>\n",
       "      <td>1.0</td>\n",
       "      <td>0.5</td>\n",
       "      <td>0.006515</td>\n",
       "    </tr>\n",
       "    <tr>\n",
       "      <th>1</th>\n",
       "      <td>Контракт №2</td>\n",
       "      <td>2569</td>\n",
       "      <td>7008574</td>\n",
       "      <td>10</td>\n",
       "      <td>10</td>\n",
       "      <td>10</td>\n",
       "      <td>10</td>\n",
       "      <td>10</td>\n",
       "      <td>10</td>\n",
       "      <td>10</td>\n",
       "      <td>7.008574e+05</td>\n",
       "      <td>7.008574e+05</td>\n",
       "      <td>350428.700000</td>\n",
       "      <td>7.008574e+05</td>\n",
       "      <td>1.0</td>\n",
       "      <td>1.0</td>\n",
       "      <td>1.0</td>\n",
       "      <td>0.5</td>\n",
       "      <td>0.003893</td>\n",
       "    </tr>\n",
       "  </tbody>\n",
       "</table>\n",
       "</div>"
      ],
      "text/plain": [
       "  тип контракта  Кол-во исполнителей  Расходы в Rs  Unique clicks count  \\\n",
       "0   Контракт №1                 2763      20329936                   18   \n",
       "1   Контракт №2                 2569       7008574                   10   \n",
       "\n",
       "   Registrations  FTD  RD  DEPOSITS AMOUNT  Payout  GGR  Unique click price  \\\n",
       "0             18   18  18               18      18   18        1.129441e+06   \n",
       "1             10   10  10               10      10   10        7.008574e+05   \n",
       "\n",
       "   Registration price  deposit price     FTD price  \\\n",
       "0        1.129441e+06  564720.444444  1.129441e+06   \n",
       "1        7.008574e+05  350428.700000  7.008574e+05   \n",
       "\n",
       "   Unique clicks/ registration  Unique clicks count/FTD  Registrations/FTD  \\\n",
       "0                          1.0                      1.0                1.0   \n",
       "1                          1.0                      1.0                1.0   \n",
       "\n",
       "   average deposit  Unique clicks per blogger  \n",
       "0              0.5                   0.006515  \n",
       "1              0.5                   0.003893  "
      ]
     },
     "execution_count": 429,
     "metadata": {},
     "output_type": "execute_result"
    }
   ],
   "source": [
    "stat_tracker['Unique click price'] = stat_tracker['Расходы в Rs'] / stat_tracker['Unique clicks count']\n",
    "stat_tracker['Registration price'] = stat_tracker['Расходы в Rs'] / stat_tracker['Registrations']\n",
    "stat_tracker['deposit price'] = stat_tracker['Расходы в Rs'] / (stat_tracker['FTD'] + stat_tracker['RD'])\n",
    "stat_tracker['FTD price'] = stat_tracker['Расходы в Rs'] / stat_tracker['FTD']\n",
    "stat_tracker['Unique clicks per blogger'] = stat_tracker['Unique clicks count'] / stat_tracker['Кол-во исполнителей']\n",
    "stat_tracker['Unique clicks/ registration'] = stat_tracker['Unique clicks count'] / stat_tracker['Registrations']\n",
    "stat_tracker['Unique clicks count/FTD'] = stat_tracker['Unique clicks count'] / stat_tracker['FTD']\n",
    "stat_tracker['Registrations/FTD'] = stat_tracker['Registrations'] / stat_tracker['FTD']\n",
    "stat_tracker['average deposit'] = stat_tracker['DEPOSITS AMOUNT'] / (stat_tracker['FTD'] + stat_tracker['RD'])\n",
    "stat_tracker"
   ]
  },
  {
   "cell_type": "code",
   "execution_count": 430,
   "metadata": {},
   "outputs": [
    {
     "name": "stderr",
     "output_type": "stream",
     "text": [
      "INFO:googleapiclient.discovery_cache:file_cache is only supported with oauth2client<4.0.0\n",
      "INFO:__main__:Отправка запроса обновления данных: {'valueInputOption': 'USER_ENTERED', 'data': [{'range': 'Анализ контрактов!A3', 'values': [['Контракт №1', 'Контракт №2'], [2763, 2569], [20329936, 7008574], [18, 10], [18, 10], [18, 10], [18, 10], [18, 10], [18, 10], [18, 10], [1129440.888888889, 700857.4], [1129440.888888889, 700857.4], [564720.4444444445, 350428.7], [1129440.888888889, 700857.4], [1.0, 1.0], [1.0, 1.0], [1.0, 1.0], [0.5, 0.5], [0.006514657980456026, 0.003892565200467108]]}]}\n",
      "INFO:__main__:Получен результат: {'spreadsheetId': '1X-THzy2TpMsBAxpR6WlIH1V9TrKgr5kH6ajLJ6fELYM', 'totalUpdatedRows': 19, 'totalUpdatedColumns': 2, 'totalUpdatedCells': 38, 'totalUpdatedSheets': 1, 'responses': [{'spreadsheetId': '1X-THzy2TpMsBAxpR6WlIH1V9TrKgr5kH6ajLJ6fELYM', 'updatedRange': \"'Анализ контрактов'!A3:B21\", 'updatedRows': 19, 'updatedColumns': 2, 'updatedCells': 38}]}\n"
     ]
    },
    {
     "name": "stdout",
     "output_type": "stream",
     "text": [
      "38 cells updated.\n"
     ]
    }
   ],
   "source": [
    "stat_tracker = pd.DataFrame(stat_tracker).transpose()\n",
    "stat_tracker = to_transport(stat_tracker)\n",
    "\n",
    "SAMPLE_SPREADSHEET_ID = '1X-THzy2TpMsBAxpR6WlIH1V9TrKgr5kH6ajLJ6fELYM'\n",
    "SAMPLE_RANGE_NAME = 'Анализ контрактов!A3'\n",
    "\n",
    "# Вызываем функцию update_table() для отправки данных в таблицу\n",
    "update_table(SAMPLE_SPREADSHEET_ID, SAMPLE_RANGE_NAME, stat_tracker)"
   ]
  },
  {
   "cell_type": "markdown",
   "metadata": {},
   "source": [
    "# Моменты по работе по работе с кодом и таблицами по этой части"
   ]
  },
  {
   "cell_type": "markdown",
   "metadata": {},
   "source": [
    "- каждую неделю перед выгрузкой данных за неделю необходимо "
   ]
  },
  {
   "cell_type": "markdown",
   "metadata": {},
   "source": []
  }
 ],
 "metadata": {
  "kernelspec": {
   "display_name": "Python 3",
   "language": "python",
   "name": "python3"
  },
  "language_info": {
   "codemirror_mode": {
    "name": "ipython",
    "version": 3
   },
   "file_extension": ".py",
   "mimetype": "text/x-python",
   "name": "python",
   "nbconvert_exporter": "python",
   "pygments_lexer": "ipython3",
   "version": "3.11.2"
  }
 },
 "nbformat": 4,
 "nbformat_minor": 2
}
